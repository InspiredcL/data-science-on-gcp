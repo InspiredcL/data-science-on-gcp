{
 "cells": [
  {
   "cell_type": "markdown",
   "metadata": {},
   "source": [
    "# Ch 5. Análisis de datos interactivo\n",
    "\n",
    "Este notebook introduce el análisis de datos interactivo de datos en BigQuery\n",
    "utilizando un notebook de Jupyter gestionado por Vertex AI Workbench, el\n",
    "cual es un entorno basado en notebooks de Jupyter que se proporciona a\n",
    "través de instancias de máquina virtual (VM) con funciones que admiten\n",
    "todo el flujo de trabajo de la ciencia de datos.\n",
    "\n",
    "Puedes usar el entorno basado en notebooks de Vertex AI Workbench para\n",
    "consultar y explorar datos, desarrollar y entrenar un modelo, y ejecutar\n",
    "tu código como parte de un pipeline (canalización).\n",
    "\n",
    "Esta celda, por ejemplo, es una celda de markdown. Es por eso que estás\n",
    "viendo texto. La celda que sigue es una celda de código Python. La salida\n",
    "de esa celda es lo que se imprime desde ella."
   ]
  },
  {
   "cell_type": "code",
   "execution_count": 1,
   "metadata": {
    "collapsed": false,
    "jupyter": {
     "outputs_hidden": false
    }
   },
   "outputs": [
    {
     "name": "stdout",
     "output_type": "stream",
     "text": [
      "a=3 b=8\n"
     ]
    }
   ],
   "source": [
    "a = 3\n",
    "b = a + 5\n",
    "print(f\"a={a} b={b}\")"
   ]
  },
  {
   "cell_type": "markdown",
   "metadata": {},
   "source": [
    "## Ruta relativa\n",
    "\n",
    "Este notebook se creó en la carpeta 05_bqnotebook del repositorio de git.\n",
    "Por lo tanto, es posible que veas una ruta que termine en eso. Pero la ruta\n",
    "comenzará con /home/jupyter, que está mapeada a una carpeta local si se\n",
    "ejecuta en un contenedor, de otro modo si estas en tu dispositivo local\n",
    "veras la ruta local al archivo"
   ]
  },
  {
   "cell_type": "code",
   "execution_count": 2,
   "metadata": {
    "collapsed": false,
    "jupyter": {
     "outputs_hidden": false
    }
   },
   "outputs": [
    {
     "name": "stdout",
     "output_type": "stream",
     "text": [
      "/home/inspired/data-science-on-gcp/05_bqnotebook\n"
     ]
    }
   ],
   "source": [
    "!pwd"
   ]
  },
  {
   "cell_type": "markdown",
   "metadata": {},
   "source": [
    "## ¿Qué está instalado?\n",
    "\n",
    "¿Usamos !pip o %pip?\n",
    "\n",
    "La primera opción ejecuta el comando en la shell y si no tenemos activado el ambiente ahi podría darnos resultados errados.\n",
    "\n",
    "La segunda opción ejecuta pip por una función mágica, la cual ejecuta el\n",
    "gestor de paquetes dentro del kernel(núcleo) actual "
   ]
  },
  {
   "cell_type": "code",
   "execution_count": null,
   "metadata": {
    "tags": []
   },
   "outputs": [],
   "source": [
    "%pip freeze"
   ]
  },
  {
   "cell_type": "code",
   "execution_count": 6,
   "metadata": {
    "tags": []
   },
   "outputs": [],
   "source": [
    "import matplotlib.pyplot as plt\n",
    "import seaborn as sns\n",
    "import pandas as pd\n",
    "import numpy as np\n",
    "\n",
    "from google.cloud import bigquery"
   ]
  },
  {
   "cell_type": "markdown",
   "metadata": {},
   "source": [
    "## Instalando dependencias\n",
    "\n",
    "Las dependencias de Python regulares se pueden instalar utilizando pip"
   ]
  },
  {
   "cell_type": "code",
   "execution_count": 7,
   "metadata": {
    "collapsed": false,
    "jupyter": {
     "outputs_hidden": false
    }
   },
   "outputs": [
    {
     "name": "stdout",
     "output_type": "stream",
     "text": [
      "Requirement already satisfied: pytz in /home/inspired/data-science-on-gcp/dsongcp/lib/python3.10/site-packages (2024.1)\n",
      "Note: you may need to restart the kernel to use updated packages.\n"
     ]
    }
   ],
   "source": [
    "%pip install pytz"
   ]
  },
  {
   "cell_type": "markdown",
   "metadata": {},
   "source": [
    "## Juypter magic"
   ]
  },
  {
   "cell_type": "code",
   "execution_count": 9,
   "metadata": {
    "collapsed": false,
    "jupyter": {
     "outputs_hidden": false
    }
   },
   "outputs": [
    {
     "data": {
      "text/html": [
       "Esta celda imprimirá un `string` de <b> HTML </b>.\n"
      ],
      "text/plain": [
       "<IPython.core.display.HTML object>"
      ]
     },
     "metadata": {},
     "output_type": "display_data"
    }
   ],
   "source": [
    "%%html\n",
    "Esta celda imprimirá un `string` de <b> HTML </b>."
   ]
  },
  {
   "cell_type": "markdown",
   "metadata": {},
   "source": [
    "El cell magic `%%bigquery` nos retorna los resultados de la consulta en\n",
    "SQL en un DataFrame de pandas.\n"
   ]
  },
  {
   "cell_type": "markdown",
   "metadata": {},
   "source": [
    "El sintaxis de la celda mágica es el siguiente:\n",
    "\n",
    "```\n",
    "%%bigquery [<destination_var>] [--project <project>] [--use_legacy_sql]\n",
    "           [--verbose] [--params <params>] <query>\n",
    "```\n",
    "\n",
    "Obs. si nos encontramos en un ambiente local, antes de ejecutar la celda\n",
    "debemos ejecutar la linea mágica load_ext la cual carga las funciones\n",
    "mágicas por su nombre de módulo."
   ]
  },
  {
   "cell_type": "code",
   "execution_count": 10,
   "metadata": {},
   "outputs": [],
   "source": [
    "%load_ext google.cloud.bigquery"
   ]
  },
  {
   "cell_type": "code",
   "execution_count": 11,
   "metadata": {
    "collapsed": false,
    "jupyter": {
     "outputs_hidden": false
    }
   },
   "outputs": [
    {
     "data": {
      "application/vnd.jupyter.widget-view+json": {
       "model_id": "b97fee4f2d524c9a99b7d3d95d0725a5",
       "version_major": 2,
       "version_minor": 0
      },
      "text/plain": [
       "Query is running:   0%|          |"
      ]
     },
     "metadata": {},
     "output_type": "display_data"
    },
    {
     "data": {
      "application/vnd.jupyter.widget-view+json": {
       "model_id": "d8177be561cc48109cfc58e6024af07b",
       "version_major": 2,
       "version_minor": 0
      },
      "text/plain": [
       "Downloading:   0%|          |"
      ]
     },
     "metadata": {},
     "output_type": "display_data"
    },
    {
     "data": {
      "text/html": [
       "<div>\n",
       "<style scoped>\n",
       "    .dataframe tbody tr th:only-of-type {\n",
       "        vertical-align: middle;\n",
       "    }\n",
       "\n",
       "    .dataframe tbody tr th {\n",
       "        vertical-align: top;\n",
       "    }\n",
       "\n",
       "    .dataframe thead th {\n",
       "        text-align: right;\n",
       "    }\n",
       "</style>\n",
       "<table border=\"1\" class=\"dataframe\">\n",
       "  <thead>\n",
       "    <tr style=\"text-align: right;\">\n",
       "      <th></th>\n",
       "      <th>frac_delayed</th>\n",
       "    </tr>\n",
       "  </thead>\n",
       "  <tbody>\n",
       "    <tr>\n",
       "      <th>0</th>\n",
       "      <td>0.219494</td>\n",
       "    </tr>\n",
       "  </tbody>\n",
       "</table>\n",
       "</div>"
      ],
      "text/plain": [
       "   frac_delayed\n",
       "0      0.219494"
      ]
     },
     "execution_count": 11,
     "metadata": {},
     "output_type": "execute_result"
    }
   ],
   "source": [
    "%%bigquery\n",
    "SELECT\n",
    "    COUNTIF(arr_delay >= 15)/COUNT(arr_delay) AS frac_delayed\n",
    "FROM\n",
    "    dsongcp.flights_tzcorr"
   ]
  },
  {
   "cell_type": "markdown",
   "metadata": {},
   "source": [
    "## Acceso a llamadas a BigQuery\n",
    "\n",
    "También podemos realizar llamadas a BigQuery directamente con la biblioteca\n",
    "de Python:"
   ]
  },
  {
   "cell_type": "code",
   "execution_count": 6,
   "metadata": {},
   "outputs": [],
   "source": [
    "bq = bigquery.Client()"
   ]
  },
  {
   "cell_type": "code",
   "execution_count": 7,
   "metadata": {},
   "outputs": [
    {
     "data": {
      "text/html": [
       "<div>\n",
       "<style scoped>\n",
       "    .dataframe tbody tr th:only-of-type {\n",
       "        vertical-align: middle;\n",
       "    }\n",
       "\n",
       "    .dataframe tbody tr th {\n",
       "        vertical-align: top;\n",
       "    }\n",
       "\n",
       "    .dataframe thead th {\n",
       "        text-align: right;\n",
       "    }\n",
       "</style>\n",
       "<table border=\"1\" class=\"dataframe\">\n",
       "  <thead>\n",
       "    <tr style=\"text-align: right;\">\n",
       "      <th></th>\n",
       "      <th>frac_delayed</th>\n",
       "    </tr>\n",
       "  </thead>\n",
       "  <tbody>\n",
       "    <tr>\n",
       "      <th>0</th>\n",
       "      <td>0.219494</td>\n",
       "    </tr>\n",
       "  </tbody>\n",
       "</table>\n",
       "</div>"
      ],
      "text/plain": [
       "   frac_delayed\n",
       "0      0.219494"
      ]
     },
     "execution_count": 7,
     "metadata": {},
     "output_type": "execute_result"
    }
   ],
   "source": [
    "sql = \"\"\"\n",
    "SELECT\n",
    "  COUNTIF(arr_delay >= 15)/COUNT(arr_delay) AS frac_delayed\n",
    "FROM dsongcp.flights_tzcorr\n",
    "\"\"\"\n",
    "bq.query(sql).to_dataframe()"
   ]
  },
  {
   "cell_type": "markdown",
   "metadata": {},
   "source": [
    "Grafiquemos una Función de Distribución de Probabilidad (PDF o Probability\n",
    "Distribution Function) de diferentes retrasos de llegada. En un Notebook,\n",
    "podemos asignar la salida de una consulta de la celda mágica a una variable,\n",
    "en este caso df, como vimos en la sintáxis de la celda mágica %%biggquery:"
   ]
  },
  {
   "cell_type": "code",
   "execution_count": 12,
   "metadata": {
    "collapsed": false,
    "jupyter": {
     "outputs_hidden": false
    }
   },
   "outputs": [
    {
     "data": {
      "application/vnd.jupyter.widget-view+json": {
       "model_id": "ec9d66926cf241d2b9ad411cb906a5e0",
       "version_major": 2,
       "version_minor": 0
      },
      "text/plain": [
       "Query is running:   0%|          |"
      ]
     },
     "metadata": {},
     "output_type": "display_data"
    },
    {
     "data": {
      "application/vnd.jupyter.widget-view+json": {
       "model_id": "7295216888ac41a6a264f7f12a400c2d",
       "version_major": 2,
       "version_minor": 0
      },
      "text/plain": [
       "Downloading:   0%|          |"
      ]
     },
     "metadata": {},
     "output_type": "display_data"
    }
   ],
   "source": [
    "%%bigquery df\n",
    "SELECT ARR_DELAY, DEP_DELAY\n",
    "FROM dsongcp.flights_tzcorr\n",
    "WHERE DEP_DELAY >= 10"
   ]
  },
  {
   "cell_type": "code",
   "execution_count": 13,
   "metadata": {},
   "outputs": [
    {
     "data": {
      "text/plain": [
       "pandas.core.frame.DataFrame"
      ]
     },
     "execution_count": 13,
     "metadata": {},
     "output_type": "execute_result"
    }
   ],
   "source": [
    "type(df)"
   ]
  },
  {
   "cell_type": "code",
   "execution_count": 14,
   "metadata": {
    "collapsed": false,
    "jupyter": {
     "outputs_hidden": false
    }
   },
   "outputs": [
    {
     "data": {
      "text/html": [
       "<div>\n",
       "<style scoped>\n",
       "    .dataframe tbody tr th:only-of-type {\n",
       "        vertical-align: middle;\n",
       "    }\n",
       "\n",
       "    .dataframe tbody tr th {\n",
       "        vertical-align: top;\n",
       "    }\n",
       "\n",
       "    .dataframe thead th {\n",
       "        text-align: right;\n",
       "    }\n",
       "</style>\n",
       "<table border=\"1\" class=\"dataframe\">\n",
       "  <thead>\n",
       "    <tr style=\"text-align: right;\">\n",
       "      <th></th>\n",
       "      <th>ARR_DELAY</th>\n",
       "      <th>DEP_DELAY</th>\n",
       "    </tr>\n",
       "  </thead>\n",
       "  <tbody>\n",
       "    <tr>\n",
       "      <th>count</th>\n",
       "      <td>1.734356e+06</td>\n",
       "      <td>1.743880e+06</td>\n",
       "    </tr>\n",
       "    <tr>\n",
       "      <th>mean</th>\n",
       "      <td>5.624196e+01</td>\n",
       "      <td>6.094439e+01</td>\n",
       "    </tr>\n",
       "    <tr>\n",
       "      <th>std</th>\n",
       "      <td>9.839818e+01</td>\n",
       "      <td>9.704787e+01</td>\n",
       "    </tr>\n",
       "    <tr>\n",
       "      <th>min</th>\n",
       "      <td>-8.100000e+01</td>\n",
       "      <td>1.000000e+01</td>\n",
       "    </tr>\n",
       "    <tr>\n",
       "      <th>25%</th>\n",
       "      <td>1.200000e+01</td>\n",
       "      <td>1.800000e+01</td>\n",
       "    </tr>\n",
       "    <tr>\n",
       "      <th>50%</th>\n",
       "      <td>3.000000e+01</td>\n",
       "      <td>3.300000e+01</td>\n",
       "    </tr>\n",
       "    <tr>\n",
       "      <th>75%</th>\n",
       "      <td>6.600000e+01</td>\n",
       "      <td>6.700000e+01</td>\n",
       "    </tr>\n",
       "    <tr>\n",
       "      <th>max</th>\n",
       "      <td>4.405000e+03</td>\n",
       "      <td>4.413000e+03</td>\n",
       "    </tr>\n",
       "  </tbody>\n",
       "</table>\n",
       "</div>"
      ],
      "text/plain": [
       "          ARR_DELAY     DEP_DELAY\n",
       "count  1.734356e+06  1.743880e+06\n",
       "mean   5.624196e+01  6.094439e+01\n",
       "std    9.839818e+01  9.704787e+01\n",
       "min   -8.100000e+01  1.000000e+01\n",
       "25%    1.200000e+01  1.800000e+01\n",
       "50%    3.000000e+01  3.300000e+01\n",
       "75%    6.600000e+01  6.700000e+01\n",
       "max    4.405000e+03  4.413000e+03"
      ]
     },
     "execution_count": 14,
     "metadata": {},
     "output_type": "execute_result"
    }
   ],
   "source": [
    "df.describe()"
   ]
  },
  {
   "cell_type": "code",
   "execution_count": 27,
   "metadata": {
    "collapsed": false,
    "jupyter": {
     "outputs_hidden": false
    }
   },
   "outputs": [
    {
     "data": {
      "text/plain": [
       "(-50.0, 300.0)"
      ]
     },
     "execution_count": 27,
     "metadata": {},
     "output_type": "execute_result"
    },
    {
     "data": {
      "image/png": "[encoded data removed]",
      "text/plain": [
       "<Figure size 640x480 with 1 Axes>"
      ]
     },
     "metadata": {},
     "output_type": "display_data"
    }
   ],
   "source": [
    "# predefined style {darkgrid=Default, whitegrid, dark, white, ticks}\n",
    "sns.set_style(style=\"whitegrid\")\n",
    "# sns.set_theme(font_scale=1.5)  # Default font_scale=1\n",
    "ax = sns.violinplot(data=df, x=\"ARR_DELAY\", inner=\"box\", orient=\"h\")\n",
    "ax.axes.set_xlim(-50, 300)"
   ]
  },
  {
   "cell_type": "markdown",
   "metadata": {},
   "source": [
    "## Visualizando distribuciones"
   ]
  },
  {
   "cell_type": "code",
   "execution_count": 30,
   "metadata": {
    "tags": []
   },
   "outputs": [
    {
     "data": {
      "application/vnd.jupyter.widget-view+json": {
       "model_id": "5e2dc376ce3a4983ad629f0af13c9131",
       "version_major": 2,
       "version_minor": 0
      },
      "text/plain": [
       "Query is running:   0%|          |"
      ]
     },
     "metadata": {},
     "output_type": "display_data"
    },
    {
     "data": {
      "application/vnd.jupyter.widget-view+json": {
       "model_id": "efcb892811fc47b993e843b5e331cf1d",
       "version_major": 2,
       "version_minor": 0
      },
      "text/plain": [
       "Downloading:   0%|          |"
      ]
     },
     "metadata": {},
     "output_type": "display_data"
    }
   ],
   "source": [
    "%%bigquery df\n",
    "SELECT ARR_DELAY, DEP_DELAY\n",
    "FROM dsongcp.flights_tzcorr"
   ]
  },
  {
   "cell_type": "code",
   "execution_count": 31,
   "metadata": {
    "collapsed": false,
    "jupyter": {
     "outputs_hidden": false
    }
   },
   "outputs": [
    {
     "data": {
      "text/html": [
       "<div>\n",
       "<style scoped>\n",
       "    .dataframe tbody tr th:only-of-type {\n",
       "        vertical-align: middle;\n",
       "    }\n",
       "\n",
       "    .dataframe tbody tr th {\n",
       "        vertical-align: top;\n",
       "    }\n",
       "\n",
       "    .dataframe thead th {\n",
       "        text-align: right;\n",
       "    }\n",
       "</style>\n",
       "<table border=\"1\" class=\"dataframe\">\n",
       "  <thead>\n",
       "    <tr style=\"text-align: right;\">\n",
       "      <th></th>\n",
       "      <th>ARR_DELAY</th>\n",
       "      <th>DEP_DELAY</th>\n",
       "    </tr>\n",
       "  </thead>\n",
       "  <tbody>\n",
       "    <tr>\n",
       "      <th>count</th>\n",
       "      <td>6.678463e+06</td>\n",
       "      <td>6.699431e+06</td>\n",
       "    </tr>\n",
       "    <tr>\n",
       "      <th>mean</th>\n",
       "      <td>8.216988e+00</td>\n",
       "      <td>1.346740e+01</td>\n",
       "    </tr>\n",
       "    <tr>\n",
       "      <th>std</th>\n",
       "      <td>5.887879e+01</td>\n",
       "      <td>5.711700e+01</td>\n",
       "    </tr>\n",
       "    <tr>\n",
       "      <th>min</th>\n",
       "      <td>-1.190000e+02</td>\n",
       "      <td>-7.200000e+01</td>\n",
       "    </tr>\n",
       "    <tr>\n",
       "      <th>25%</th>\n",
       "      <td>-1.400000e+01</td>\n",
       "      <td>-5.000000e+00</td>\n",
       "    </tr>\n",
       "    <tr>\n",
       "      <th>50%</th>\n",
       "      <td>-5.000000e+00</td>\n",
       "      <td>-2.000000e+00</td>\n",
       "    </tr>\n",
       "    <tr>\n",
       "      <th>75%</th>\n",
       "      <td>1.100000e+01</td>\n",
       "      <td>1.100000e+01</td>\n",
       "    </tr>\n",
       "    <tr>\n",
       "      <th>max</th>\n",
       "      <td>4.405000e+03</td>\n",
       "      <td>4.413000e+03</td>\n",
       "    </tr>\n",
       "  </tbody>\n",
       "</table>\n",
       "</div>"
      ],
      "text/plain": [
       "          ARR_DELAY     DEP_DELAY\n",
       "count  6.678463e+06  6.699431e+06\n",
       "mean   8.216988e+00  1.346740e+01\n",
       "std    5.887879e+01  5.711700e+01\n",
       "min   -1.190000e+02 -7.200000e+01\n",
       "25%   -1.400000e+01 -5.000000e+00\n",
       "50%   -5.000000e+00 -2.000000e+00\n",
       "75%    1.100000e+01  1.100000e+01\n",
       "max    4.405000e+03  4.413000e+03"
      ]
     },
     "execution_count": 31,
     "metadata": {},
     "output_type": "execute_result"
    }
   ],
   "source": [
    "df.describe()"
   ]
  },
  {
   "cell_type": "code",
   "execution_count": 32,
   "metadata": {
    "collapsed": false,
    "jupyter": {
     "outputs_hidden": false
    }
   },
   "outputs": [
    {
     "data": {
      "text/html": [
       "<div>\n",
       "<style scoped>\n",
       "    .dataframe tbody tr th:only-of-type {\n",
       "        vertical-align: middle;\n",
       "    }\n",
       "\n",
       "    .dataframe tbody tr th {\n",
       "        vertical-align: top;\n",
       "    }\n",
       "\n",
       "    .dataframe thead th {\n",
       "        text-align: right;\n",
       "    }\n",
       "</style>\n",
       "<table border=\"1\" class=\"dataframe\">\n",
       "  <thead>\n",
       "    <tr style=\"text-align: right;\">\n",
       "      <th></th>\n",
       "      <th>ARR_DELAY</th>\n",
       "      <th>DEP_DELAY</th>\n",
       "      <th>ontime</th>\n",
       "    </tr>\n",
       "  </thead>\n",
       "  <tbody>\n",
       "    <tr>\n",
       "      <th>1</th>\n",
       "      <td>216.0</td>\n",
       "      <td>201.0</td>\n",
       "      <td>False</td>\n",
       "    </tr>\n",
       "    <tr>\n",
       "      <th>2</th>\n",
       "      <td>86.0</td>\n",
       "      <td>84.0</td>\n",
       "      <td>False</td>\n",
       "    </tr>\n",
       "    <tr>\n",
       "      <th>3</th>\n",
       "      <td>73.0</td>\n",
       "      <td>84.0</td>\n",
       "      <td>False</td>\n",
       "    </tr>\n",
       "    <tr>\n",
       "      <th>4</th>\n",
       "      <td>206.0</td>\n",
       "      <td>218.0</td>\n",
       "      <td>False</td>\n",
       "    </tr>\n",
       "    <tr>\n",
       "      <th>5</th>\n",
       "      <td>113.0</td>\n",
       "      <td>123.0</td>\n",
       "      <td>False</td>\n",
       "    </tr>\n",
       "  </tbody>\n",
       "</table>\n",
       "</div>"
      ],
      "text/plain": [
       "   ARR_DELAY  DEP_DELAY  ontime\n",
       "1      216.0      201.0   False\n",
       "2       86.0       84.0   False\n",
       "3       73.0       84.0   False\n",
       "4      206.0      218.0   False\n",
       "5      113.0      123.0   False"
      ]
     },
     "execution_count": 32,
     "metadata": {},
     "output_type": "execute_result"
    }
   ],
   "source": [
    "df['ontime'] = df['DEP_DELAY'] < 10\n",
    "df[df['ARR_DELAY'] > 0].head()"
   ]
  },
  {
   "cell_type": "code",
   "execution_count": 33,
   "metadata": {},
   "outputs": [
    {
     "data": {
      "image/png": "[encoded data removed]",
      "text/plain": [
       "<Figure size 640x480 with 1 Axes>"
      ]
     },
     "metadata": {},
     "output_type": "display_data"
    }
   ],
   "source": [
    "sns.set_style(\"whitegrid\")\n",
    "ax = sns.violinplot(data=df, x='ARR_DELAY', y='ontime', inner='box', orient='h')\n",
    "ax.set_xlim(-50, 200);"
   ]
  },
  {
   "cell_type": "markdown",
   "metadata": {},
   "source": [
    "Podemos modificar el argumento gridsize, el cual es el número de puntos\n",
    "en la malla discreta usada para evaluar la estimación de densidad del kernel\n",
    "para obtener un gráfico mas \"suave\" a cambio de un mayor tiempo."
   ]
  },
  {
   "cell_type": "code",
   "execution_count": 34,
   "metadata": {
    "collapsed": false,
    "jupyter": {
     "outputs_hidden": false
    }
   },
   "outputs": [
    {
     "data": {
      "text/plain": [
       "(-50.0, 200.0)"
      ]
     },
     "execution_count": 34,
     "metadata": {},
     "output_type": "execute_result"
    },
    {
     "data": {
      "image/png": "[encoded data removed]",
      "text/plain": [
       "<Figure size 640x480 with 1 Axes>"
      ]
     },
     "metadata": {},
     "output_type": "display_data"
    }
   ],
   "source": [
    "ax = sns.violinplot(data=df, x='ARR_DELAY', y='ontime', \n",
    "                    inner='box', orient='h', gridsize=1000)\n",
    "ax.set_xlim(-50, 200)"
   ]
  },
  {
   "cell_type": "markdown",
   "metadata": {},
   "source": [
    "## Oddball values\n",
    "\n",
    "La siguente consulta nos entrega el retraso de llegada promedio y el numero\n",
    "de vuelos, asociados con cada valor de retraso de llegada"
   ]
  },
  {
   "cell_type": "code",
   "execution_count": 35,
   "metadata": {},
   "outputs": [
    {
     "data": {
      "application/vnd.jupyter.widget-view+json": {
       "model_id": "c42bcaa987a14213b0c9859976b52721",
       "version_major": 2,
       "version_minor": 0
      },
      "text/plain": [
       "Query is running:   0%|          |"
      ]
     },
     "metadata": {},
     "output_type": "display_data"
    },
    {
     "data": {
      "application/vnd.jupyter.widget-view+json": {
       "model_id": "60696d8be11b491d9056b14597fc03c7",
       "version_major": 2,
       "version_minor": 0
      },
      "text/plain": [
       "Downloading:   0%|          |"
      ]
     },
     "metadata": {},
     "output_type": "display_data"
    }
   ],
   "source": [
    "%%bigquery depdelay\n",
    "SELECT\n",
    "    DEP_DELAY,\n",
    "    AVG(ARR_DELAY) AS arrival_delay,\n",
    "    COUNT(ARR_DELAY) AS numflights\n",
    "FROM\n",
    "    dsongcp.flights_tzcorr\n",
    "GROUP BY\n",
    "    DEP_DELAY\n",
    "ORDER BY\n",
    "    DEP_DELAY"
   ]
  },
  {
   "cell_type": "markdown",
   "metadata": {},
   "source": [
    "El número de registros de cada grupo lo vemos a continuación"
   ]
  },
  {
   "cell_type": "code",
   "execution_count": 36,
   "metadata": {},
   "outputs": [
    {
     "data": {
      "text/plain": [
       "1865"
      ]
     },
     "execution_count": 36,
     "metadata": {},
     "output_type": "execute_result"
    }
   ],
   "source": [
    "len(depdelay)"
   ]
  },
  {
   "cell_type": "markdown",
   "metadata": {},
   "source": [
    "Obtenemos mas de 1800 valores únicos, esto quiere decir que algo pasa con los\n",
    "datos y tenemos valores fuera de lo común."
   ]
  },
  {
   "cell_type": "code",
   "execution_count": 44,
   "metadata": {},
   "outputs": [
    {
     "data": {
      "text/html": [
       "<div>\n",
       "<style scoped>\n",
       "    .dataframe tbody tr th:only-of-type {\n",
       "        vertical-align: middle;\n",
       "    }\n",
       "\n",
       "    .dataframe tbody tr th {\n",
       "        vertical-align: top;\n",
       "    }\n",
       "\n",
       "    .dataframe thead th {\n",
       "        text-align: right;\n",
       "    }\n",
       "</style>\n",
       "<table border=\"1\" class=\"dataframe\">\n",
       "  <thead>\n",
       "    <tr style=\"text-align: right;\">\n",
       "      <th></th>\n",
       "      <th>DEP_DELAY</th>\n",
       "      <th>arrival_delay</th>\n",
       "      <th>numflights</th>\n",
       "    </tr>\n",
       "  </thead>\n",
       "  <tbody>\n",
       "    <tr>\n",
       "      <th>0</th>\n",
       "      <td>NaN</td>\n",
       "      <td>NaN</td>\n",
       "      <td>0</td>\n",
       "    </tr>\n",
       "    <tr>\n",
       "      <th>1</th>\n",
       "      <td>-72.0</td>\n",
       "      <td>-51.0</td>\n",
       "      <td>1</td>\n",
       "    </tr>\n",
       "    <tr>\n",
       "      <th>2</th>\n",
       "      <td>-68.0</td>\n",
       "      <td>-94.0</td>\n",
       "      <td>1</td>\n",
       "    </tr>\n",
       "    <tr>\n",
       "      <th>3</th>\n",
       "      <td>-59.0</td>\n",
       "      <td>-59.5</td>\n",
       "      <td>2</td>\n",
       "    </tr>\n",
       "    <tr>\n",
       "      <th>4</th>\n",
       "      <td>-55.0</td>\n",
       "      <td>-51.0</td>\n",
       "      <td>1</td>\n",
       "    </tr>\n",
       "  </tbody>\n",
       "</table>\n",
       "</div>"
      ],
      "text/plain": [
       "   DEP_DELAY  arrival_delay  numflights\n",
       "0        NaN            NaN           0\n",
       "1      -72.0          -51.0           1\n",
       "2      -68.0          -94.0           1\n",
       "3      -59.0          -59.5           2\n",
       "4      -55.0          -51.0           1"
      ]
     },
     "execution_count": 44,
     "metadata": {},
     "output_type": "execute_result"
    }
   ],
   "source": [
    "depdelay[:5]"
   ]
  },
  {
   "cell_type": "code",
   "execution_count": 43,
   "metadata": {},
   "outputs": [
    {
     "data": {
      "text/html": [
       "<div>\n",
       "<style scoped>\n",
       "    .dataframe tbody tr th:only-of-type {\n",
       "        vertical-align: middle;\n",
       "    }\n",
       "\n",
       "    .dataframe tbody tr th {\n",
       "        vertical-align: top;\n",
       "    }\n",
       "\n",
       "    .dataframe thead th {\n",
       "        text-align: right;\n",
       "    }\n",
       "</style>\n",
       "<table border=\"1\" class=\"dataframe\">\n",
       "  <thead>\n",
       "    <tr style=\"text-align: right;\">\n",
       "      <th></th>\n",
       "      <th>DEP_DELAY</th>\n",
       "      <th>arrival_delay</th>\n",
       "      <th>numflights</th>\n",
       "    </tr>\n",
       "  </thead>\n",
       "  <tbody>\n",
       "    <tr>\n",
       "      <th>55</th>\n",
       "      <td>-2.0</td>\n",
       "      <td>-7.583430</td>\n",
       "      <td>406258</td>\n",
       "    </tr>\n",
       "    <tr>\n",
       "      <th>56</th>\n",
       "      <td>-1.0</td>\n",
       "      <td>-6.353006</td>\n",
       "      <td>365784</td>\n",
       "    </tr>\n",
       "    <tr>\n",
       "      <th>57</th>\n",
       "      <td>0.0</td>\n",
       "      <td>-4.990917</td>\n",
       "      <td>313000</td>\n",
       "    </tr>\n",
       "    <tr>\n",
       "      <th>58</th>\n",
       "      <td>1.0</td>\n",
       "      <td>-4.024014</td>\n",
       "      <td>151784</td>\n",
       "    </tr>\n",
       "    <tr>\n",
       "      <th>59</th>\n",
       "      <td>2.0</td>\n",
       "      <td>-2.999148</td>\n",
       "      <td>126812</td>\n",
       "    </tr>\n",
       "  </tbody>\n",
       "</table>\n",
       "</div>"
      ],
      "text/plain": [
       "    DEP_DELAY  arrival_delay  numflights\n",
       "55       -2.0      -7.583430      406258\n",
       "56       -1.0      -6.353006      365784\n",
       "57        0.0      -4.990917      313000\n",
       "58        1.0      -4.024014      151784\n",
       "59        2.0      -2.999148      126812"
      ]
     },
     "execution_count": 43,
     "metadata": {},
     "output_type": "execute_result"
    }
   ],
   "source": [
    "depdelay[55:60]"
   ]
  },
  {
   "cell_type": "markdown",
   "metadata": {},
   "source": [
    "Las primeras filas tienen pocos vuelos, sin embargo los valores de retraso\n",
    "pequeños tienen cantidades considerables, los valores poco comunes que\n",
    "son una proporción pequeña con respecto al total de los datos pueden ser\n",
    "probablemente ignorados sin afectar a nuestro modelo."
   ]
  },
  {
   "cell_type": "markdown",
   "metadata": {},
   "source": [
    "## Filtering Data on Occurence Frequency"
   ]
  },
  {
   "cell_type": "code",
   "execution_count": 45,
   "metadata": {},
   "outputs": [
    {
     "data": {
      "application/vnd.jupyter.widget-view+json": {
       "model_id": "167506911fa64732877dd9633090e8e1",
       "version_major": 2,
       "version_minor": 0
      },
      "text/plain": [
       "Query is running:   0%|          |"
      ]
     },
     "metadata": {},
     "output_type": "display_data"
    },
    {
     "data": {
      "application/vnd.jupyter.widget-view+json": {
       "model_id": "41532ec6f8774baab2c9c082d2d5c7da",
       "version_major": 2,
       "version_minor": 0
      },
      "text/plain": [
       "Downloading:   0%|          |"
      ]
     },
     "metadata": {},
     "output_type": "display_data"
    }
   ],
   "source": [
    "%%bigquery df\n",
    "DECLARE total_flights INT64;\n",
    "SET total_flights = (\n",
    "    SELECT COUNT(*) FROM dsongcp.flights_tzcorr\n",
    ");\n",
    "\n",
    "CREATE TEMPORARY FUNCTION linear_fit(NUM_TOTAL INT64, THRESH INT64)\n",
    "RETURNS STRUCT<thresh INT64, num_removed INT64, lm FLOAT64>\n",
    "AS ((\n",
    "    SELECT AS STRUCT\n",
    "        THRESH,\n",
    "        (NUM_TOTAL - SUM(numflights)) AS num_removed,\n",
    "        ROUND(AVG(arrival_delay * numflights) / AVG(dep_delay * numflights), 2) AS lm\n",
    "    FROM\n",
    "    (\n",
    "        SELECT\n",
    "            DEP_DELAY,\n",
    "            AVG(ARR_DELAY) AS arrival_delay,\n",
    "            STDDEV(ARR_DELAY) AS stddev_arrival_delay,\n",
    "            COUNT(ARR_DELAY) AS numflights\n",
    "        FROM\n",
    "            dsongcp.flights_tzcorr\n",
    "        GROUP BY\n",
    "            DEP_DELAY\n",
    "    )\n",
    "    WHERE numflights > THRESH\n",
    "))\n",
    ";\n",
    "\n",
    "SELECT linear_fit(total_flights, 1000) stats\n",
    "UNION ALL SELECT linear_fit(total_flights, 500)\n",
    "UNION ALL SELECT linear_fit(total_flights, 370)\n",
    "UNION ALL SELECT linear_fit(total_flights, 300)\n",
    "UNION ALL SELECT linear_fit(total_flights, 200)\n",
    "UNION ALL SELECT linear_fit(total_flights, 100)\n",
    "UNION ALL SELECT linear_fit(total_flights, 22)\n",
    "UNION ALL SELECT linear_fit(total_flights, 10)\n",
    "UNION ALL SELECT linear_fit(total_flights, 5)\n",
    "ORDER BY stats.thresh DESC"
   ]
  },
  {
   "cell_type": "code",
   "execution_count": 46,
   "metadata": {},
   "outputs": [
    {
     "data": {
      "text/plain": [
       "0    (1000, 234025, 0.4)\n",
       "1    (500, 194535, 0.47)\n",
       "2    (370, 185980, 0.49)\n",
       "3     (300, 179887, 0.5)\n",
       "4    (200, 169894, 0.52)\n",
       "5    (100, 160616, 0.54)\n",
       "6     (22, 148140, 0.57)\n",
       "7      (10, 141085, 0.6)\n",
       "8      (5, 140076, 0.61)\n",
       "Name: stats, dtype: object"
      ]
     },
     "execution_count": 46,
     "metadata": {},
     "output_type": "execute_result"
    }
   ],
   "source": [
    "df['stats'].map(lambda x: (x['thresh'], x['num_removed'], x['lm']))"
   ]
  },
  {
   "cell_type": "markdown",
   "metadata": {},
   "source": [
    "## Arrival delay conditioned on departure delay"
   ]
  },
  {
   "cell_type": "code",
   "execution_count": null,
   "metadata": {
    "collapsed": false,
    "jupyter": {
     "outputs_hidden": false
    }
   },
   "outputs": [],
   "source": [
    "%%bigquery depdelay\n",
    "SELECT\n",
    "    DEP_DELAY,\n",
    "    AVG(ARR_DELAY) AS arrival_delay,\n",
    "    STDDEV(ARR_DELAY) AS stddev_arrival_delay,\n",
    "    COUNT(ARR_DELAY) AS numflights\n",
    "FROM\n",
    "    dsongcp.flights_tzcorr\n",
    "GROUP BY\n",
    "    DEP_DELAY\n",
    "HAVING numflights > 370\n",
    "ORDER BY DEP_DELAY"
   ]
  },
  {
   "cell_type": "code",
   "execution_count": null,
   "metadata": {
    "collapsed": false,
    "jupyter": {
     "outputs_hidden": false
    }
   },
   "outputs": [],
   "source": [
    "depdelay[:5]"
   ]
  },
  {
   "cell_type": "code",
   "execution_count": null,
   "metadata": {
    "collapsed": false,
    "jupyter": {
     "outputs_hidden": false
    }
   },
   "outputs": [],
   "source": [
    "ax = depdelay.plot(kind='line', x='DEP_DELAY', \n",
    "              y='arrival_delay', yerr='stddev_arrival_delay')"
   ]
  },
  {
   "cell_type": "code",
   "execution_count": null,
   "metadata": {
    "collapsed": false,
    "jupyter": {
     "outputs_hidden": false
    }
   },
   "outputs": [],
   "source": [
    "Z_30 = 0.52\n",
    "depdelay['arr_delay_30'] = (Z_30 * depdelay['stddev_arrival_delay']) \\\n",
    "             + depdelay['arrival_delay']\n",
    "\n",
    "ax = plt.axes()\n",
    "depdelay.plot(kind='line', x='DEP_DELAY', y='arr_delay_30',\n",
    "              ax=ax, ylim=(0,30), xlim=(0,30), legend=False)\n",
    "ax.set_xlabel('Departure Delay (minutes)')\n",
    "ax.set_ylabel('> 30% prob of this\\n Arrival Delay (minutes)');\n",
    "\n",
    "x = np.arange(0, 30)\n",
    "y = np.ones_like(x) * 15\n",
    "ax.plot(x, y, 'r.');\n",
    "\n",
    "y = np.arange(0, 30)\n",
    "x = np.ones_like(y) * 13\n",
    "ax.plot(x, y, 'g.');"
   ]
  },
  {
   "cell_type": "code",
   "execution_count": null,
   "metadata": {
    "tags": []
   },
   "outputs": [],
   "source": [
    "%%bigquery depdelay\n",
    "SELECT\n",
    "    DEP_DELAY,\n",
    "    APPROX_QUANTILES(ARR_DELAY, 101)[OFFSET(70)] AS arrival_delay,\n",
    "    COUNT(ARR_DELAY) AS numflights\n",
    "FROM\n",
    "    dsongcp.flights_tzcorr\n",
    "GROUP BY\n",
    "    DEP_DELAY\n",
    "HAVING numflights > 370\n",
    "ORDER BY DEP_DELAY"
   ]
  },
  {
   "cell_type": "code",
   "execution_count": null,
   "metadata": {
    "collapsed": false,
    "jupyter": {
     "outputs_hidden": false
    }
   },
   "outputs": [],
   "source": [
    "ax = plt.axes()\n",
    "depdelay.plot(kind='line', x='DEP_DELAY', y='arrival_delay',\n",
    "              ax=ax, ylim=(0,30), xlim=(0,30), legend=False)\n",
    "ax.set_xlabel('Departure Delay (minutes)')\n",
    "ax.set_ylabel('> 30% prob of this\\n Arrival Delay (minutes)');\n",
    "\n",
    "x = np.arange(0, 30)\n",
    "y = np.ones_like(x) * 15\n",
    "ax.plot(x, y, 'r.');\n",
    "\n",
    "y = np.arange(0, 30)\n",
    "x = np.ones_like(y) * 16\n",
    "ax.plot(x, y, 'g.');"
   ]
  },
  {
   "cell_type": "markdown",
   "metadata": {},
   "source": [
    "## Creating training/evaluation dataset"
   ]
  },
  {
   "cell_type": "code",
   "execution_count": null,
   "metadata": {},
   "outputs": [],
   "source": [
    "%%bigquery\n",
    "SELECT\n",
    "  FL_DATE,\n",
    "  IF(ABS(MOD(FARM_FINGERPRINT(CAST(FL_DATE AS STRING)), 100)) < 70,\n",
    "     'True', 'False') AS is_train_day\n",
    "FROM (\n",
    "  SELECT\n",
    "    DISTINCT(FL_DATE) AS FL_DATE\n",
    "  FROM\n",
    "    dsongcp.flights_tzcorr)\n",
    "ORDER BY\n",
    "  FL_DATE\n",
    "LIMIT 5"
   ]
  },
  {
   "cell_type": "code",
   "execution_count": null,
   "metadata": {},
   "outputs": [],
   "source": [
    "%%bigquery\n",
    "CREATE OR REPLACE TABLE dsongcp.trainday AS\n",
    "\n",
    "SELECT\n",
    "  FL_DATE,\n",
    "  IF(ABS(MOD(FARM_FINGERPRINT(CAST(FL_DATE AS STRING)), 100)) < 70,\n",
    "     'True', 'False') AS is_train_day\n",
    "FROM (\n",
    "  SELECT\n",
    "    DISTINCT(FL_DATE) AS FL_DATE\n",
    "  FROM\n",
    "    dsongcp.flights_tzcorr)\n",
    "ORDER BY\n",
    "  FL_DATE"
   ]
  },
  {
   "cell_type": "code",
   "execution_count": null,
   "metadata": {
    "tags": []
   },
   "outputs": [],
   "source": [
    "%%bigquery depdelay\n",
    "SELECT\n",
    "    DEP_DELAY,\n",
    "    APPROX_QUANTILES(ARR_DELAY, 101)[OFFSET(70)] AS arrival_delay,\n",
    "    COUNT(ARR_DELAY) AS numflights\n",
    "FROM\n",
    "    dsongcp.flights_tzcorr\n",
    "JOIN dsongcp.trainday USING(FL_DATE)\n",
    "WHERE is_train_day = 'True'\n",
    "GROUP BY\n",
    "    DEP_DELAY\n",
    "HAVING numflights > 370\n",
    "ORDER BY DEP_DELAY"
   ]
  },
  {
   "cell_type": "code",
   "execution_count": null,
   "metadata": {
    "collapsed": false,
    "jupyter": {
     "outputs_hidden": false
    }
   },
   "outputs": [],
   "source": [
    "ax = plt.axes()\n",
    "depdelay.plot(kind='line', x='DEP_DELAY', y='arrival_delay',\n",
    "              ax=ax, ylim=(0,30), xlim=(0,30), legend=False)\n",
    "ax.set_xlabel('Departure Delay (minutes)')\n",
    "ax.set_ylabel('> 30% prob of this\\n Arrival Delay (minutes)');\n",
    "\n",
    "x = np.arange(0, 30)\n",
    "y = np.ones_like(x) * 15\n",
    "ax.plot(x, y, 'r.');\n",
    "\n",
    "y = np.arange(0, 30)\n",
    "x = np.ones_like(y) * 16\n",
    "ax.plot(x, y, 'g.');"
   ]
  },
  {
   "cell_type": "code",
   "execution_count": null,
   "metadata": {
    "tags": []
   },
   "outputs": [],
   "source": [
    "%%bigquery df_eval\n",
    "SELECT\n",
    "  SUM(IF(DEP_DELAY < 16\n",
    "      AND arr_delay < 15, 1, 0)) AS correct_nocancel,\n",
    "  SUM(IF(DEP_DELAY < 16\n",
    "      AND arr_delay >= 15, 1, 0)) AS wrong_nocancel,\n",
    "  SUM(IF(DEP_DELAY >= 16\n",
    "      AND arr_delay < 15, 1, 0)) AS wrong_cancel,\n",
    "  SUM(IF(DEP_DELAY >= 16\n",
    "      AND arr_delay >= 15, 1, 0)) AS correct_cancel\n",
    "FROM (\n",
    "  SELECT\n",
    "    DEP_DELAY,\n",
    "    ARR_DELAY\n",
    "  FROM\n",
    "    dsongcp.flights_tzcorr\n",
    "  JOIN dsongcp.trainday USING(FL_DATE)\n",
    "  WHERE is_train_day = 'False' \n",
    ")"
   ]
  },
  {
   "cell_type": "code",
   "execution_count": null,
   "metadata": {
    "collapsed": false,
    "jupyter": {
     "outputs_hidden": false
    }
   },
   "outputs": [],
   "source": [
    "print(df_eval['correct_nocancel'] /\n",
    "      (df_eval['correct_nocancel'] + df_eval['wrong_nocancel']))\n",
    "print(df_eval['correct_cancel'] / \n",
    "      (df_eval['correct_cancel'] + df_eval['wrong_cancel']))"
   ]
  },
  {
   "cell_type": "code",
   "execution_count": null,
   "metadata": {
    "collapsed": false,
    "jupyter": {
     "outputs_hidden": false
    }
   },
   "outputs": [],
   "source": [
    "df_eval.head()"
   ]
  },
  {
   "cell_type": "code",
   "execution_count": null,
   "metadata": {
    "tags": []
   },
   "outputs": [],
   "source": [
    "%%bigquery df_eval\n",
    "SELECT\n",
    "  SUM(IF(DEP_DELAY = 15\n",
    "      AND arr_delay < 15, 1, 0)) AS correct_nocancel,\n",
    "  SUM(IF(DEP_DELAY = 15\n",
    "      AND arr_delay >= 15, 1, 0)) AS wrong_nocancel,\n",
    "  SUM(IF(DEP_DELAY = 16\n",
    "      AND arr_delay < 15, 1, 0)) AS wrong_cancel,\n",
    "  SUM(IF(DEP_DELAY = 16\n",
    "      AND arr_delay >= 15, 1, 0)) AS correct_cancel\n",
    "FROM (\n",
    "  SELECT\n",
    "    DEP_DELAY,\n",
    "    ARR_DELAY\n",
    "  FROM\n",
    "    dsongcp.flights_tzcorr\n",
    "  JOIN dsongcp.trainday USING(FL_DATE)\n",
    "  WHERE is_train_day = 'False' \n",
    ")"
   ]
  },
  {
   "cell_type": "code",
   "execution_count": null,
   "metadata": {
    "collapsed": false,
    "jupyter": {
     "outputs_hidden": false
    }
   },
   "outputs": [],
   "source": [
    "df_eval.head()"
   ]
  },
  {
   "cell_type": "code",
   "execution_count": null,
   "metadata": {
    "collapsed": false,
    "jupyter": {
     "outputs_hidden": false
    }
   },
   "outputs": [],
   "source": [
    "print(df_eval['correct_nocancel'] / (df_eval['correct_nocancel'] + df_eval['wrong_nocancel']))\n",
    "print(df_eval['correct_cancel'] / (df_eval['correct_cancel'] + df_eval['wrong_cancel']))"
   ]
  },
  {
   "cell_type": "markdown",
   "metadata": {},
   "source": [
    "Copyright 2021 Google Inc. Licensed under the Apache License, Version 2.0 (the \"License\"); you may not use this file except in compliance with the License. You may obtain a copy of the License at http://www.apache.org/licenses/LICENSE-2.0 Unless required by applicable law or agreed to in writing, software distributed under the License is distributed on an \"AS IS\" BASIS, WITHOUT WARRANTIES OR CONDITIONS OF ANY KIND, either express or implied. See the License for the specific language governing permissions and limitations under the License."
   ]
  }
 ],
 "metadata": {
  "environment": {
   "kernel": "python3",
   "name": "tf2-gpu.2-8.m90",
   "type": "gcloud",
   "uri": "gcr.io/deeplearning-platform-release/tf2-gpu.2-8:m90"
  },
  "kernelspec": {
   "display_name": "Python 3",
   "language": "python",
   "name": "python3"
  },
  "language_info": {
   "codemirror_mode": {
    "name": "ipython",
    "version": 3
   },
   "file_extension": ".py",
   "mimetype": "text/x-python",
   "name": "python",
   "nbconvert_exporter": "python",
   "pygments_lexer": "ipython3",
   "version": "3.10.12"
  }
 },
 "nbformat": 4,
 "nbformat_minor": 4
}
