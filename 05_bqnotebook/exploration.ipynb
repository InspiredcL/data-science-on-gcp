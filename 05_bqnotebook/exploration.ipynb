{
 "cells": [
  {
   "cell_type": "markdown",
   "metadata": {},
   "source": [
    "# Parte 5. Análisis de datos interactivo"
   ]
  },
  {
   "cell_type": "markdown",
   "metadata": {},
   "source": [
    "## Introducción"
   ]
  },
  {
   "cell_type": "markdown",
   "metadata": {},
   "source": [
    "\n",
    "Este notebook introduce el análisis de datos interactivo de datos en BigQuery\n",
    "utilizando un notebook de Jupyter gestionado por Vertex AI Workbench, el\n",
    "cual es un entorno basado en notebooks de Jupyter que se proporciona a\n",
    "través de instancias de máquina virtual (VM) con funciones que admiten\n",
    "todo el flujo de trabajo de la ciencia de datos.\n",
    "\n",
    "Puedes usar el entorno basado en notebooks de Vertex AI Workbench para\n",
    "consultar y explorar datos, desarrollar y entrenar un modelo, y ejecutar\n",
    "tu código como parte de un pipeline (canalización).\n",
    "\n",
    "Esta celda, por ejemplo, es una celda de markdown. Es por eso que estás\n",
    "viendo texto. La celda que sigue es una celda de código Python. La salida\n",
    "de esa celda es lo que se imprime desde ella."
   ]
  },
  {
   "cell_type": "code",
   "execution_count": null,
   "metadata": {
    "collapsed": false,
    "jupyter": {
     "outputs_hidden": false
    }
   },
   "outputs": [],
   "source": [
    "a = 3\n",
    "b = a + 5\n",
    "print(f\"a={a} b={b}\")"
   ]
  },
  {
   "cell_type": "markdown",
   "metadata": {},
   "source": [
    "## Ruta relativa"
   ]
  },
  {
   "cell_type": "markdown",
   "metadata": {},
   "source": [
    "\n",
    "Este notebook se creó en la carpeta 05_bqnotebook del repositorio de git.\n",
    "Por lo tanto, es posible que veas una ruta que termine en eso. Pero la ruta\n",
    "comenzará con /home/jupyter, que está mapeada a una carpeta local si se\n",
    "ejecuta en un contenedor, de otro modo si estas en tu dispositivo local\n",
    "veras la ruta local al archivo"
   ]
  },
  {
   "cell_type": "code",
   "execution_count": null,
   "metadata": {
    "collapsed": false,
    "jupyter": {
     "outputs_hidden": false
    }
   },
   "outputs": [],
   "source": [
    "!pwd"
   ]
  },
  {
   "cell_type": "markdown",
   "metadata": {},
   "source": [
    "## ¿Qué está instalado?"
   ]
  },
  {
   "cell_type": "markdown",
   "metadata": {},
   "source": [
    "\n",
    "¿Usamos !pip o %pip?\n",
    "\n",
    "La primera opción ejecuta el comando en la shell y si no tenemos activado el ambiente ahi podría darnos resultados errados.\n",
    "\n",
    "La segunda opción ejecuta pip por una función mágica, la cual ejecuta el\n",
    "gestor de paquetes dentro del kernel(núcleo) actual "
   ]
  },
  {
   "cell_type": "code",
   "execution_count": null,
   "metadata": {
    "tags": []
   },
   "outputs": [],
   "source": [
    "%pip freeze"
   ]
  },
  {
   "cell_type": "code",
   "execution_count": 1,
   "metadata": {
    "tags": []
   },
   "outputs": [],
   "source": [
    "import matplotlib.pyplot as plt\n",
    "import seaborn as sns\n",
    "import pandas as pd\n",
    "import numpy as np\n",
    "\n",
    "from google.cloud import bigquery\n",
    "from scipy.interpolate import interp1d\n",
    "%load_ext google.cloud.bigquery"
   ]
  },
  {
   "cell_type": "markdown",
   "metadata": {},
   "source": [
    "## Instalando dependencias\n",
    "\n",
    "Las dependencias de Python regulares se pueden instalar utilizando pip"
   ]
  },
  {
   "cell_type": "code",
   "execution_count": null,
   "metadata": {
    "collapsed": false,
    "jupyter": {
     "outputs_hidden": false
    }
   },
   "outputs": [],
   "source": [
    "%pip install pytz"
   ]
  },
  {
   "cell_type": "markdown",
   "metadata": {},
   "source": [
    "## Juypter magic"
   ]
  },
  {
   "cell_type": "code",
   "execution_count": null,
   "metadata": {
    "collapsed": false,
    "jupyter": {
     "outputs_hidden": false
    }
   },
   "outputs": [],
   "source": [
    "%%html\n",
    "Esta celda imprimirá un `string` de <b> HTML </b>."
   ]
  },
  {
   "cell_type": "markdown",
   "metadata": {},
   "source": [
    "El cell magic `%%bigquery` nos retorna los resultados de la consulta en\n",
    "SQL en un DataFrame de pandas.\n"
   ]
  },
  {
   "cell_type": "markdown",
   "metadata": {},
   "source": [
    "El sintaxis de la celda mágica es el siguiente:\n",
    "\n",
    "```\n",
    "%%bigquery [<destination_var>] [--project <project>] [--use_legacy_sql]\n",
    "           [--verbose] [--params <params>] <query>\n",
    "```\n",
    "\n",
    "Obs. si nos encontramos en un ambiente local, antes de ejecutar la celda\n",
    "debemos ejecutar la linea mágica load_ext la cual carga las funciones\n",
    "mágicas por su nombre de módulo."
   ]
  },
  {
   "cell_type": "code",
   "execution_count": null,
   "metadata": {},
   "outputs": [],
   "source": [
    "%load_ext google.cloud.bigquery"
   ]
  },
  {
   "cell_type": "code",
   "execution_count": null,
   "metadata": {
    "collapsed": false,
    "jupyter": {
     "outputs_hidden": false
    }
   },
   "outputs": [],
   "source": [
    "%%bigquery\n",
    "SELECT\n",
    "    COUNTIF(arr_delay >= 15)/COUNT(arr_delay) AS frac_delayed\n",
    "FROM\n",
    "    dsongcp.flights_tzcorr"
   ]
  },
  {
   "cell_type": "markdown",
   "metadata": {},
   "source": [
    "## Acceso a llamadas a BigQuery\n",
    "\n",
    "También podemos realizar llamadas a BigQuery directamente con la biblioteca\n",
    "de Python:"
   ]
  },
  {
   "cell_type": "code",
   "execution_count": null,
   "metadata": {},
   "outputs": [],
   "source": [
    "bq = bigquery.Client()"
   ]
  },
  {
   "cell_type": "code",
   "execution_count": null,
   "metadata": {},
   "outputs": [],
   "source": [
    "sql = \"\"\"\n",
    "SELECT\n",
    "  COUNTIF(arr_delay >= 15)/COUNT(arr_delay) AS frac_delayed\n",
    "FROM dsongcp.flights_tzcorr\n",
    "\"\"\"\n",
    "bq.query(sql).to_dataframe()"
   ]
  },
  {
   "cell_type": "markdown",
   "metadata": {},
   "source": [
    "Grafiquemos una Función de Distribución de Probabilidad (PDF o Probability\n",
    "Distribution Function) de diferentes retrasos de llegada. En un Notebook,\n",
    "podemos asignar la salida de una consulta de la celda mágica a una variable,\n",
    "en este caso df, como vimos en la sintáxis de la celda mágica %%biggquery:"
   ]
  },
  {
   "cell_type": "code",
   "execution_count": null,
   "metadata": {
    "collapsed": false,
    "jupyter": {
     "outputs_hidden": false
    }
   },
   "outputs": [],
   "source": [
    "%%bigquery df\n",
    "SELECT\n",
    "    ARR_DELAY, DEP_DELAY\n",
    "FROM\n",
    "    dsongcp.flights_tzcorr\n",
    "WHERE\n",
    "    DEP_DELAY >= 10"
   ]
  },
  {
   "cell_type": "code",
   "execution_count": null,
   "metadata": {},
   "outputs": [],
   "source": [
    "type(df)"
   ]
  },
  {
   "cell_type": "code",
   "execution_count": null,
   "metadata": {
    "collapsed": false,
    "jupyter": {
     "outputs_hidden": false
    }
   },
   "outputs": [],
   "source": [
    "df.describe()"
   ]
  },
  {
   "cell_type": "code",
   "execution_count": null,
   "metadata": {
    "collapsed": false,
    "jupyter": {
     "outputs_hidden": false
    }
   },
   "outputs": [],
   "source": [
    "# predefined style {darkgrid=Default, whitegrid, dark, white, ticks}\n",
    "sns.set_style(style=\"whitegrid\")\n",
    "# sns.set_theme(font_scale=1.5)  # Default font_scale=1\n",
    "ax = sns.violinplot(data=df, x=\"ARR_DELAY\", inner=\"box\", orient=\"h\")\n",
    "ax.axes.set_xlim(-50, 300)"
   ]
  },
  {
   "cell_type": "markdown",
   "metadata": {},
   "source": [
    "## Visualizando distribuciones"
   ]
  },
  {
   "cell_type": "code",
   "execution_count": null,
   "metadata": {
    "tags": []
   },
   "outputs": [],
   "source": [
    "%%bigquery df\n",
    "SELECT ARR_DELAY, DEP_DELAY\n",
    "FROM dsongcp.flights_tzcorr"
   ]
  },
  {
   "cell_type": "code",
   "execution_count": null,
   "metadata": {
    "collapsed": false,
    "jupyter": {
     "outputs_hidden": false
    }
   },
   "outputs": [],
   "source": [
    "df.describe()"
   ]
  },
  {
   "cell_type": "code",
   "execution_count": null,
   "metadata": {
    "collapsed": false,
    "jupyter": {
     "outputs_hidden": false
    }
   },
   "outputs": [],
   "source": [
    "df['ontime'] = df['DEP_DELAY'] < 10\n",
    "df[df['ARR_DELAY'] > 0].head()"
   ]
  },
  {
   "cell_type": "code",
   "execution_count": null,
   "metadata": {},
   "outputs": [],
   "source": [
    "sns.set_style(\"whitegrid\")\n",
    "ax = sns.violinplot(data=df, x='ARR_DELAY', y='ontime', inner='box', orient='h')\n",
    "ax.set_xlim(-50, 200);"
   ]
  },
  {
   "cell_type": "markdown",
   "metadata": {},
   "source": [
    "Podemos modificar el argumento gridsize, el cual es el número de puntos\n",
    "en la malla discreta usada para evaluar la estimación de densidad del kernel\n",
    "para obtener un gráfico mas \"suave\" a cambio de un mayor tiempo."
   ]
  },
  {
   "cell_type": "code",
   "execution_count": null,
   "metadata": {
    "collapsed": false,
    "jupyter": {
     "outputs_hidden": false
    }
   },
   "outputs": [],
   "source": [
    "ax = sns.violinplot(data=df, x='ARR_DELAY', y='ontime', \n",
    "                    inner='box', orient='h', gridsize=1000)\n",
    "ax.set_xlim(-50, 200)"
   ]
  },
  {
   "cell_type": "markdown",
   "metadata": {},
   "source": [
    "## Valores atípicos\n",
    "\n",
    "La siguiente consulta nos entrega el retraso de llegada promedio y el numero\n",
    "de vuelos, asociados con cada valor de retraso de llegada"
   ]
  },
  {
   "cell_type": "code",
   "execution_count": null,
   "metadata": {},
   "outputs": [],
   "source": [
    "%%bigquery depdelay\n",
    "SELECT\n",
    "    DEP_DELAY,\n",
    "    AVG(ARR_DELAY) AS arrival_delay,\n",
    "    COUNT(ARR_DELAY) AS numflights\n",
    "FROM\n",
    "    dsongcp.flights_tzcorr\n",
    "GROUP BY\n",
    "    DEP_DELAY\n",
    "ORDER BY\n",
    "    DEP_DELAY"
   ]
  },
  {
   "cell_type": "markdown",
   "metadata": {},
   "source": [
    "El número de registros de cada grupo lo vemos a continuación"
   ]
  },
  {
   "cell_type": "code",
   "execution_count": null,
   "metadata": {},
   "outputs": [],
   "source": [
    "len(depdelay)"
   ]
  },
  {
   "cell_type": "markdown",
   "metadata": {},
   "source": [
    "Obtenemos mas de 1800 valores únicos, esto quiere decir que algo pasa con los\n",
    "datos y tenemos valores fuera de lo común."
   ]
  },
  {
   "cell_type": "code",
   "execution_count": null,
   "metadata": {},
   "outputs": [],
   "source": [
    "depdelay[:5]"
   ]
  },
  {
   "cell_type": "code",
   "execution_count": null,
   "metadata": {},
   "outputs": [],
   "source": [
    "depdelay[55:60]"
   ]
  },
  {
   "cell_type": "markdown",
   "metadata": {},
   "source": [
    "Las primeras filas tienen pocos vuelos, sin embargo los valores de retraso\n",
    "pequeños tienen cantidades considerables, los valores poco comunes que\n",
    "son una proporción pequeña con respecto al total de los datos pueden ser\n",
    "probablemente ignorados sin afectar a nuestro modelo."
   ]
  },
  {
   "cell_type": "markdown",
   "metadata": {},
   "source": [
    "## Descartando valores atípicos"
   ]
  },
  {
   "cell_type": "markdown",
   "metadata": {},
   "source": [
    "\n",
    "Como remover dichos valores atípicos? Hay dos grandes maneras para filtrar\n",
    "los datos, una sería basado en la variable dep_delay (retraso de salida)\n",
    "manteniendo solo los valores que cumplen una condición, por ejemplo\n",
    "dep_delay > -15. Un segundo método sería filtrar los datos basado en el\n",
    "numero de vuelos.\n",
    "\n",
    "El segundo método usar un filtro de control de calidad que está basado\n",
    "en remover datos para los cuales tenemos ejemplos insuficientes es preferible."
   ]
  },
  {
   "cell_type": "markdown",
   "metadata": {},
   "source": [
    "Obs. Este es un punto importante que destaca la diferencia clave entre la\n",
    "estadística en conjuntos de datos \"normales\" y la estadística en grandes\n",
    "conjuntos de datos. El enfoque fundamental para abordar problemas cambia cuando\n",
    "los conjuntos de datos crecen lo suficiente. La forma en que detectamos valores\n",
    "atípicos es solo un ejemplo de esto."
   ]
  },
  {
   "cell_type": "markdown",
   "metadata": {},
   "source": [
    "Por ejemplo para conjuntos de datos que tienen cientos o miles de ejemplos,\n",
    "filtraríamos valores fuera de $\\mu \\pm 3 \\sigma$ (donde $\\mu$ es la media y\n",
    "$\\sigma$ es la desviación estándar)"
   ]
  },
  {
   "cell_type": "code",
   "execution_count": null,
   "metadata": {},
   "outputs": [],
   "source": [
    "%%capture\n",
    "%%bigquery limits\n",
    "SELECT\n",
    "    AVG(DEP_DELAY) - 3*STDDEV(DEP_DELAY) AS filter_min,\n",
    "    AVG(DEP_DELAY) + 3*STDDEV(DEP_DELAY) AS filter_max\n",
    "FROM\n",
    "    dsongcp.flights_tzcorr;"
   ]
  },
  {
   "cell_type": "code",
   "execution_count": null,
   "metadata": {},
   "outputs": [],
   "source": [
    "limits"
   ]
  },
  {
   "cell_type": "markdown",
   "metadata": {},
   "source": [
    "Esto nos lleva al rango de $[-157, 185]$ minutos por ende podriamos filtrar con una sentencia `WHERE dep_delay BETWEEN -157 AND 185`.\n",
    "\n",
    "Obs. Este filtro está basado en el supuesto de que la distribución de los\n",
    "retrasos de vuelos es \"Normal\" (Gaussiana)."
   ]
  },
  {
   "cell_type": "markdown",
   "metadata": {},
   "source": [
    "Otro ejemplo que evita este supuesto, sería usar percentiles omitiendo algún\n",
    "porcentaje de los datos digamos 5% de los valores mas altos y bajos."
   ]
  },
  {
   "cell_type": "code",
   "execution_count": null,
   "metadata": {},
   "outputs": [],
   "source": [
    "%%capture\n",
    "%%bigquery quantiles\n",
    "SELECT\n",
    "APPROX_QUANTILES(DEP_DELAY, 20)\n",
    "FROM\n",
    "dsongcp.flights_tzcorr;"
   ]
  },
  {
   "cell_type": "markdown",
   "metadata": {},
   "source": [
    "El DataFrame devuelto por bigquery es de una fila y una columna, su contenido\n",
    "es un array de 21 floats que contienen los 20 cuantiles aproximados, calculados\n",
    "por la función `APPROX_QUANTILES` para `DEP_DELAY` por ende consideramos el\n",
    "segundo y penúltimo elemento del array."
   ]
  },
  {
   "cell_type": "code",
   "execution_count": null,
   "metadata": {},
   "outputs": [],
   "source": [
    "quantiles.iat[0,0]"
   ]
  },
  {
   "cell_type": "markdown",
   "metadata": {},
   "source": [
    "Por lo tanto el intervalo entregado por este filtro es $[-10,83]$"
   ]
  },
  {
   "cell_type": "markdown",
   "metadata": {},
   "source": [
    "En conclusión en conjuntos de datos que contienen cientos de miles a millones\n",
    "de ejemplos, establecer umbrales en los datos de entrada según su valor es\n",
    "peligroso porque puedes estar descartando matices valiosos. Si hay suficientes\n",
    "ejemplos de un retraso de 150 minutos, vale la pena modelar dicho valor\n",
    "independientemente de lo lejos que esté de la media. A medida que nuestro\n",
    "conjunto de datos vaya creciendo los valores particulares se van haciendo menos\n",
    "frecuentes."
   ]
  },
  {
   "cell_type": "markdown",
   "metadata": {},
   "source": [
    "## Filtrado de datos por frecuencia de ocurrencia"
   ]
  },
  {
   "cell_type": "markdown",
   "metadata": {},
   "source": [
    "Para filtrar el conjunto de datos basado en la frecuencia de ocurrencia,\n",
    "primero necesitamos calcular la frecuencia de ocurrencia y luego aplicar\n",
    "un umbral a los datos en función de esta."
   ]
  },
  {
   "cell_type": "code",
   "execution_count": null,
   "metadata": {},
   "outputs": [],
   "source": [
    "%%capture\n",
    "%%bigquery occ\n",
    "SELECT\n",
    "    DEP_DELAY,\n",
    "    AVG(ARR_DELAY) AS arrival_delay,\n",
    "    STDDEV(ARR_DELAY) AS stddev_arr_delay,\n",
    "    COUNT(ARR_DELAY) AS numflights\n",
    "FROM\n",
    "    dsongcp.flights_tzcorr\n",
    "GROUP BY\n",
    "    DEP_DELAY\n",
    "HAVING\n",
    "    numflights > 370\n",
    "ORDER BY\n",
    "    DEP_DELAY\n"
   ]
  },
  {
   "cell_type": "code",
   "execution_count": null,
   "metadata": {},
   "outputs": [],
   "source": [
    "occ.head()"
   ]
  },
  {
   "cell_type": "markdown",
   "metadata": {},
   "source": [
    "\n",
    "¿Por qué establecer un umbral de 370 vuelos? Este número se obtiene de una guía\n",
    "llamada regla de los tres sigmas, que tradicionalmente es el rango dentro del\n",
    "cual consideramos que \"casi todos los valores\" se encuentran. Si asumimos (por\n",
    "ahora; lo verificaremos pronto) que, para cualquier retraso de salida, los\n",
    "retrasos de llegada están distribuidos normalmente, podemos hablar de hechos que\n",
    "son verdaderos para \"casi todos los vuelos\" si nuestro tamaño de población es\n",
    "lo suficientemente grande. Debido a que el 99.73% de los valores en una\n",
    "distribución gaussiana se encuentran dentro de los límites de tres sigmas,\n",
    "filtrar nuestro conjunto de datos para que tengamos al menos $1/(1 - 0,9973)=370$\n",
    "ejemplos de cada valor de entrada es una regla general que logra esto."
   ]
  },
  {
   "cell_type": "markdown",
   "metadata": {},
   "source": [
    "### ¿Que tan distintos son los resultados si consideramos un umbral distinto?"
   ]
  },
  {
   "cell_type": "markdown",
   "metadata": {},
   "source": [
    "Podemos ver el numero de vuelos que son removidos según diferentes umbrales\n",
    "de control de calidad, observando la pendiente del modelo lineal entre el\n",
    "retraso de llegada y el retraso de salida."
   ]
  },
  {
   "cell_type": "markdown",
   "metadata": {},
   "source": [
    "Obs. Estrictamente no es un modelo lineal si no que una simplificacion de este\n",
    "ya que hay supuestos con respecto al error e intercepto."
   ]
  },
  {
   "cell_type": "code",
   "execution_count": null,
   "metadata": {},
   "outputs": [],
   "source": [
    "%%capture\n",
    "%%bigquery df\n",
    "DECLARE total_flights INT64;\n",
    "SET total_flights = (\n",
    "    SELECT COUNT(*) FROM dsongcp.flights_tzcorr\n",
    ");\n",
    "\n",
    "CREATE TEMPORARY FUNCTION linear_fit(NUM_TOTAL INT64, THRESH INT64)\n",
    "RETURNS STRUCT<thresh INT64, num_removed INT64, lm FLOAT64>\n",
    "AS ((\n",
    "    SELECT AS STRUCT\n",
    "        THRESH,\n",
    "        (NUM_TOTAL - SUM(numflights)) AS num_removed,\n",
    "        ROUND(AVG(arrival_delay * numflights) / AVG(dep_delay * numflights), 2) AS lm\n",
    "    FROM\n",
    "    (\n",
    "        SELECT\n",
    "            DEP_DELAY,\n",
    "            AVG(ARR_DELAY) AS arrival_delay,\n",
    "            STDDEV(ARR_DELAY) AS stddev_arrival_delay,\n",
    "            COUNT(ARR_DELAY) AS numflights\n",
    "        FROM\n",
    "            dsongcp.flights_tzcorr\n",
    "        GROUP BY\n",
    "            DEP_DELAY\n",
    "    )\n",
    "    WHERE numflights > THRESH\n",
    "))\n",
    ";\n",
    "\n",
    "SELECT linear_fit(total_flights, 1000) stats\n",
    "UNION ALL SELECT linear_fit(total_flights, 500)\n",
    "UNION ALL SELECT linear_fit(total_flights, 370)\n",
    "UNION ALL SELECT linear_fit(total_flights, 300)\n",
    "UNION ALL SELECT linear_fit(total_flights, 200)\n",
    "UNION ALL SELECT linear_fit(total_flights, 100)\n",
    "UNION ALL SELECT linear_fit(total_flights, 22)\n",
    "UNION ALL SELECT linear_fit(total_flights, 10)\n",
    "UNION ALL SELECT linear_fit(total_flights, 5)\n",
    "ORDER BY stats.thresh DESC"
   ]
  },
  {
   "cell_type": "code",
   "execution_count": null,
   "metadata": {},
   "outputs": [],
   "source": [
    "df['stats'].map(lambda x: (x['thresh'], x['num_removed'], x['lm']))"
   ]
  },
  {
   "cell_type": "markdown",
   "metadata": {},
   "source": [
    "Podemos ver que la pendiente disminuye cada vez menos a medida que disminuimos\n",
    "el umbral. Por lo tanto las diferencias en el modelo creado los umbrales de 300\n",
    ", 370 o 500 son bastante menores. sin embargo el modelo es bastante diferente\n",
    "si los umbrales fuesen 5 o 10 vuelos. El orden de magnitud del umbral importa\n",
    "quizás no tanto su valor exacto."
   ]
  },
  {
   "cell_type": "markdown",
   "metadata": {},
   "source": [
    "##  Retraso de llegada condicionado en retraso de salida."
   ]
  },
  {
   "cell_type": "markdown",
   "metadata": {},
   "source": [
    "Ya que tenemos la consulta que selecciona los valores que tienen un número\n",
    "ejemplos aceptable según lo visto en la sección anterior.\n",
    "\n",
    "En la parte 3, nuestro modelo construido se basada simplemente en seleccionar\n",
    "los valores en base a un umbral. ahora sin embargo vemos  que hay muchos vuelos\n",
    "para cada retraso de salida dado. entonces queremos responder:\n",
    "\n",
    "¿Dado un retraso de salida cual es el retraso de llegada probable?"
   ]
  },
  {
   "cell_type": "markdown",
   "metadata": {},
   "source": [
    "### distribución de los retrasos de llegada."
   ]
  },
  {
   "cell_type": "code",
   "execution_count": 2,
   "metadata": {
    "collapsed": false,
    "jupyter": {
     "outputs_hidden": false
    }
   },
   "outputs": [
    {
     "data": {
      "application/vnd.jupyter.widget-view+json": {
       "model_id": "069f75634cf6477ba1603b4eb98f27f6",
       "version_major": 2,
       "version_minor": 0
      },
      "text/plain": [
       "Query is running:   0%|          |"
      ]
     },
     "metadata": {},
     "output_type": "display_data"
    },
    {
     "data": {
      "application/vnd.jupyter.widget-view+json": {
       "model_id": "0fc035ea04d348198a0317a3f75c0dc4",
       "version_major": 2,
       "version_minor": 0
      },
      "text/plain": [
       "Downloading:   0%|          |"
      ]
     },
     "metadata": {},
     "output_type": "display_data"
    }
   ],
   "source": [
    "%%bigquery normal_dep_delay\n",
    "SELECT\n",
    "    DEP_DELAY,\n",
    "    AVG(ARR_DELAY) AS arrival_delay,\n",
    "    STDDEV(ARR_DELAY) AS stddev_arrival_delay,\n",
    "    COUNT(ARR_DELAY) AS numflights\n",
    "FROM\n",
    "    dsongcp.flights_tzcorr\n",
    "GROUP BY\n",
    "    DEP_DELAY\n",
    "HAVING numflights > 370\n",
    "ORDER BY DEP_DELAY"
   ]
  },
  {
   "cell_type": "code",
   "execution_count": 3,
   "metadata": {
    "collapsed": false,
    "jupyter": {
     "outputs_hidden": false
    }
   },
   "outputs": [
    {
     "data": {
      "text/html": [
       "<div>\n",
       "<style scoped>\n",
       "    .dataframe tbody tr th:only-of-type {\n",
       "        vertical-align: middle;\n",
       "    }\n",
       "\n",
       "    .dataframe tbody tr th {\n",
       "        vertical-align: top;\n",
       "    }\n",
       "\n",
       "    .dataframe thead th {\n",
       "        text-align: right;\n",
       "    }\n",
       "</style>\n",
       "<table border=\"1\" class=\"dataframe\">\n",
       "  <thead>\n",
       "    <tr style=\"text-align: right;\">\n",
       "      <th></th>\n",
       "      <th>DEP_DELAY</th>\n",
       "      <th>arrival_delay</th>\n",
       "      <th>stddev_arrival_delay</th>\n",
       "      <th>numflights</th>\n",
       "    </tr>\n",
       "  </thead>\n",
       "  <tbody>\n",
       "    <tr>\n",
       "      <th>0</th>\n",
       "      <td>-25.0</td>\n",
       "      <td>-25.495192</td>\n",
       "      <td>12.443800</td>\n",
       "      <td>416</td>\n",
       "    </tr>\n",
       "    <tr>\n",
       "      <th>1</th>\n",
       "      <td>-24.0</td>\n",
       "      <td>-25.099650</td>\n",
       "      <td>12.922734</td>\n",
       "      <td>572</td>\n",
       "    </tr>\n",
       "    <tr>\n",
       "      <th>2</th>\n",
       "      <td>-23.0</td>\n",
       "      <td>-25.559477</td>\n",
       "      <td>11.686600</td>\n",
       "      <td>765</td>\n",
       "    </tr>\n",
       "    <tr>\n",
       "      <th>3</th>\n",
       "      <td>-22.0</td>\n",
       "      <td>-23.580131</td>\n",
       "      <td>13.293409</td>\n",
       "      <td>1067</td>\n",
       "    </tr>\n",
       "    <tr>\n",
       "      <th>4</th>\n",
       "      <td>-21.0</td>\n",
       "      <td>-22.670732</td>\n",
       "      <td>13.014263</td>\n",
       "      <td>1394</td>\n",
       "    </tr>\n",
       "  </tbody>\n",
       "</table>\n",
       "</div>"
      ],
      "text/plain": [
       "   DEP_DELAY  arrival_delay  stddev_arrival_delay  numflights\n",
       "0      -25.0     -25.495192             12.443800         416\n",
       "1      -24.0     -25.099650             12.922734         572\n",
       "2      -23.0     -25.559477             11.686600         765\n",
       "3      -22.0     -23.580131             13.293409        1067\n",
       "4      -21.0     -22.670732             13.014263        1394"
      ]
     },
     "execution_count": 3,
     "metadata": {},
     "output_type": "execute_result"
    }
   ],
   "source": [
    "normal_dep_delay[:5]"
   ]
  },
  {
   "cell_type": "code",
   "execution_count": 4,
   "metadata": {
    "collapsed": false,
    "jupyter": {
     "outputs_hidden": false
    }
   },
   "outputs": [
    {
     "data": {
      "image/png": "[encoded data removed]",
      "text/plain": [
       "<Figure size 640x480 with 1 Axes>"
      ]
     },
     "metadata": {},
     "output_type": "display_data"
    }
   ],
   "source": [
    "ax = normal_dep_delay.plot(\n",
    "    kind=\"line\", x=\"DEP_DELAY\", y=\"arrival_delay\", yerr=\"stddev_arrival_delay\"\n",
    ")"
   ]
  },
  {
   "cell_type": "markdown",
   "metadata": {},
   "source": [
    "El gráfico anterior parece que la relación entre los retrasos de salida y de\n",
    "llegada fuese linear. También podemos obserbar que el error tambien está dentro\n",
    "del mismo orden de magnitud (10 min)."
   ]
  },
  {
   "cell_type": "markdown",
   "metadata": {},
   "source": [
    "### Aplicando un umbral de decisión probabilístico."
   ]
  },
  {
   "cell_type": "markdown",
   "metadata": {},
   "source": [
    "Recordemos que nuestro criterio de desición es que, si el avión tiene una\n",
    "probabilidad mayor al 30% de llegar tarde por más de 15 minutos, queremos\n",
    "enviar el mensaje para posponer la reunión. La pregunta es ¿Para qué valor de\n",
    "retraso de salida pasa esto?"
   ]
  },
  {
   "cell_type": "markdown",
   "metadata": {},
   "source": [
    "Al calcular la desviación estándar de los retrasos de llegada correspondiente\n",
    "a cada retraso de salida, implícitamente estamos asumiendo que los retrasos de\n",
    "llegada se distribuyen de manera normal. Por ahora continuamos con este supuesto.\n",
    "\n",
    "Podemos revisar una tabla de distribución acumulada para encontrar un valor tal\n",
    "que la probabilidad de que $Z$ sea menor o igual a $0.7$ ($Prob(Z\\le 0.7)$) o\n",
    "usar una tabla de distribución acumulada complementaria para encontrar un valor\n",
    "tal que la probabilidad de $Z$ sea mayor que $0.3$ ($Prob(Z>0.3)$) y para ambos\n",
    "casos encontramos que $Z=0.52$. Por lo tanto como el valor encontrado\n",
    "corresponde a una distribución normal estándar, podemos obtener nuestra distribución usando $X = \\dfrac{X-\\mu}{\\sigma}$.\n",
    "\n",
    "Obs. Con respecto a la primera opción de las tablas, tenemos para $Z=0.52$ el\n",
    "valor de $0.6985$ y para $Z=0.53$ el valor de $0.7019$."
   ]
  },
  {
   "cell_type": "code",
   "execution_count": 5,
   "metadata": {
    "collapsed": false,
    "jupyter": {
     "outputs_hidden": false
    }
   },
   "outputs": [
    {
     "name": "stdout",
     "output_type": "stream",
     "text": [
      "El valor de x para y=15 es: 12.709664561044978\n"
     ]
    },
    {
     "data": {
      "text/html": [
       "<div>\n",
       "<style scoped>\n",
       "    .dataframe tbody tr th:only-of-type {\n",
       "        vertical-align: middle;\n",
       "    }\n",
       "\n",
       "    .dataframe tbody tr th {\n",
       "        vertical-align: top;\n",
       "    }\n",
       "\n",
       "    .dataframe thead th {\n",
       "        text-align: right;\n",
       "    }\n",
       "</style>\n",
       "<table border=\"1\" class=\"dataframe\">\n",
       "  <thead>\n",
       "    <tr style=\"text-align: right;\">\n",
       "      <th></th>\n",
       "      <th>DEP_DELAY</th>\n",
       "      <th>arrival_delay</th>\n",
       "      <th>stddev_arrival_delay</th>\n",
       "      <th>numflights</th>\n",
       "      <th>arr_delay_30</th>\n",
       "    </tr>\n",
       "  </thead>\n",
       "  <tbody>\n",
       "    <tr>\n",
       "      <th>37</th>\n",
       "      <td>12.0</td>\n",
       "      <td>6.920823</td>\n",
       "      <td>14.205193</td>\n",
       "      <td>56847</td>\n",
       "      <td>14.307523</td>\n",
       "    </tr>\n",
       "    <tr>\n",
       "      <th>38</th>\n",
       "      <td>13.0</td>\n",
       "      <td>7.855299</td>\n",
       "      <td>14.284624</td>\n",
       "      <td>52923</td>\n",
       "      <td>15.283304</td>\n",
       "    </tr>\n",
       "    <tr>\n",
       "      <th>39</th>\n",
       "      <td>14.0</td>\n",
       "      <td>8.899727</td>\n",
       "      <td>14.311200</td>\n",
       "      <td>50193</td>\n",
       "      <td>16.341551</td>\n",
       "    </tr>\n",
       "  </tbody>\n",
       "</table>\n",
       "</div>"
      ],
      "text/plain": [
       "    DEP_DELAY  arrival_delay  stddev_arrival_delay  numflights  arr_delay_30\n",
       "37       12.0       6.920823             14.205193       56847     14.307523\n",
       "38       13.0       7.855299             14.284624       52923     15.283304\n",
       "39       14.0       8.899727             14.311200       50193     16.341551"
      ]
     },
     "execution_count": 5,
     "metadata": {},
     "output_type": "execute_result"
    }
   ],
   "source": [
    "# Definimos \"arr_delay_30\"\n",
    "Z_30 = 0.52\n",
    "normal_dep_delay[\"arr_delay_30\"] = (\n",
    "    Z_30 * normal_dep_delay[\"stddev_arrival_delay\"]\n",
    ") + normal_dep_delay[\"arrival_delay\"]\n",
    "# Interpolamos el valor de x que corresponde a y=15\n",
    "f = interp1d(normal_dep_delay[\"arr_delay_30\"], normal_dep_delay[\"DEP_DELAY\"])\n",
    "print(f\"El valor de x para y=15 es: {f(15)}\")\n",
    "# Seleccionamos los valores cercanos +-1\n",
    "normal_dep_delay[\n",
    "    (normal_dep_delay[\"DEP_DELAY\"] >= np.floor(f(15)))\n",
    "    & (normal_dep_delay[\"DEP_DELAY\"] <= np.ceil(f(15) + 1))\n",
    "]"
   ]
  },
  {
   "cell_type": "markdown",
   "metadata": {},
   "source": [
    "Antes de graficar vemos que el valor de \"DEP_DELAY\" = 13 es el que está mas\n",
    "cerca del valor de \"arr_delay_30\" = 15. Ya que al interpolar de manera lineal\n",
    "estamos suponiendo que la relacion entre las variables es así."
   ]
  },
  {
   "cell_type": "code",
   "execution_count": 6,
   "metadata": {},
   "outputs": [
    {
     "data": {
      "image/png": "[encoded data removed]",
      "text/plain": [
       "<Figure size 640x480 with 1 Axes>"
      ]
     },
     "metadata": {},
     "output_type": "display_data"
    }
   ],
   "source": [
    "ax = plt.axes()\n",
    "normal_dep_delay.plot(\n",
    "    kind=\"line\",\n",
    "    x=\"DEP_DELAY\",\n",
    "    y=\"arr_delay_30\",\n",
    "    ax=ax,\n",
    "    ylim=(0, 30),\n",
    "    xlim=(0, 30),\n",
    "    legend=False,\n",
    ")\n",
    "ax.set_xlabel(\"Retraso de salida (minutos)\")\n",
    "ax.set_ylabel(\"> 30% prob. de este\\n Retraso de llegada (minutos)\")\n",
    "\n",
    "ax.axhline(y=15, color=\"r\", linestyle=\"dotted\")\n",
    "ax.axvline(x=13, color=\"g\", linestyle=\"dotted\");"
   ]
  },
  {
   "cell_type": "markdown",
   "metadata": {},
   "source": [
    "### Función de distribución empírica."
   ]
  },
  {
   "cell_type": "markdown",
   "metadata": {},
   "source": [
    "Para eliminar el supuesto de normalidad debemos calcular empíricamente la\n",
    "probabilidad del 30% en cada retraso de salida."
   ]
  },
  {
   "cell_type": "code",
   "execution_count": 7,
   "metadata": {
    "tags": []
   },
   "outputs": [
    {
     "data": {
      "application/vnd.jupyter.widget-view+json": {
       "model_id": "2d93b700f62d410581cb51d657bc69d7",
       "version_major": 2,
       "version_minor": 0
      },
      "text/plain": [
       "Query is running:   0%|          |"
      ]
     },
     "metadata": {},
     "output_type": "display_data"
    },
    {
     "data": {
      "application/vnd.jupyter.widget-view+json": {
       "model_id": "e3c434e862534a84b98d53ecea4f3abe",
       "version_major": 2,
       "version_minor": 0
      },
      "text/plain": [
       "Downloading:   0%|          |"
      ]
     },
     "metadata": {},
     "output_type": "display_data"
    }
   ],
   "source": [
    "%%bigquery quantile_dep_delay\n",
    "SELECT\n",
    "    DEP_DELAY,\n",
    "    APPROX_QUANTILES(ARR_DELAY, 100)[OFFSET(70)] AS arrival_delay,\n",
    "    COUNT(ARR_DELAY) AS numflights\n",
    "FROM\n",
    "    dsongcp.flights_tzcorr\n",
    "GROUP BY\n",
    "    DEP_DELAY\n",
    "HAVING\n",
    "    numflights > 370\n",
    "ORDER BY\n",
    "    DEP_DELAY"
   ]
  },
  {
   "cell_type": "code",
   "execution_count": 8,
   "metadata": {},
   "outputs": [
    {
     "name": "stdout",
     "output_type": "stream",
     "text": [
      "El valor de DEP_DELAY para arrival_delay = 15 es: 16.0\n"
     ]
    },
    {
     "data": {
      "text/html": [
       "<div>\n",
       "<style scoped>\n",
       "    .dataframe tbody tr th:only-of-type {\n",
       "        vertical-align: middle;\n",
       "    }\n",
       "\n",
       "    .dataframe tbody tr th {\n",
       "        vertical-align: top;\n",
       "    }\n",
       "\n",
       "    .dataframe thead th {\n",
       "        text-align: right;\n",
       "    }\n",
       "</style>\n",
       "<table border=\"1\" class=\"dataframe\">\n",
       "  <thead>\n",
       "    <tr style=\"text-align: right;\">\n",
       "      <th></th>\n",
       "      <th>DEP_DELAY</th>\n",
       "      <th>arrival_delay</th>\n",
       "      <th>numflights</th>\n",
       "    </tr>\n",
       "  </thead>\n",
       "  <tbody>\n",
       "    <tr>\n",
       "      <th>41</th>\n",
       "      <td>16.0</td>\n",
       "      <td>15.0</td>\n",
       "      <td>44556</td>\n",
       "    </tr>\n",
       "  </tbody>\n",
       "</table>\n",
       "</div>"
      ],
      "text/plain": [
       "    DEP_DELAY  arrival_delay  numflights\n",
       "41       16.0           15.0       44556"
      ]
     },
     "execution_count": 8,
     "metadata": {},
     "output_type": "execute_result"
    }
   ],
   "source": [
    "# Interpolamos el valor de x que corresponde a y=15\n",
    "f = interp1d(\n",
    "    quantile_dep_delay[\"arrival_delay\"], quantile_dep_delay[\"DEP_DELAY\"]\n",
    ")\n",
    "print(f\"El valor de DEP_DELAY para arrival_delay = 15 es: {f(15)}\")\n",
    "# Seleccionamos el valor\n",
    "quantile_dep_delay[(quantile_dep_delay[\"DEP_DELAY\"] == f(15))]"
   ]
  },
  {
   "cell_type": "code",
   "execution_count": 10,
   "metadata": {
    "collapsed": false,
    "jupyter": {
     "outputs_hidden": false
    }
   },
   "outputs": [
    {
     "data": {
      "image/png": "[encoded data removed]",
      "text/plain": [
       "<Figure size 640x480 with 1 Axes>"
      ]
     },
     "metadata": {},
     "output_type": "display_data"
    }
   ],
   "source": [
    "ax = plt.axes()\n",
    "quantile_dep_delay.plot(\n",
    "    kind=\"line\",\n",
    "    x=\"DEP_DELAY\",\n",
    "    y=\"arrival_delay\",\n",
    "    ax=ax,\n",
    "    ylim=(0, 30),\n",
    "    xlim=(0, 30),\n",
    "    legend=False,\n",
    ")\n",
    "ax.set_xlabel(\"Retraso de salida (minutos)\")\n",
    "ax.set_ylabel(\"> 30% prob. de este\\n Retraso de llegada (minutos)\")\n",
    "\n",
    "ax.axhline(y=15, color=\"r\", linestyle=\"dotted\")\n",
    "ax.axvline(x=16, color=\"g\", linestyle=\"dotted\");"
   ]
  },
  {
   "cell_type": "markdown",
   "metadata": {},
   "source": [
    "## Creando el dataset de  entrenamiento/evaluación."
   ]
  },
  {
   "cell_type": "markdown",
   "metadata": {},
   "source": [
    "¿Que tan bueno es nuestro modelo? ¿cuantas veces nuestro consejo de cancelar o\n",
    "no será el correcto?\n",
    "\n",
    "Existen dos enfoques generales para encontrar una muestra independiente:\n",
    "\n",
    "1. Recopilar nuevos datos, por ejemplo podríamos descargar más datos de la BTS\n",
    "  y evaluar nuestra recomendación en esos nuevos datos.\n",
    "\n",
    "2. Separar nuestros datos actuales en dos partes. Creamos el modelo en la\n",
    "  primera parte (llamado el conjunto de datos de entrenamiento) y evaluarlo\n",
    "  en la segunda parte (llamado conjunto de datos de evaluación o prueba).\n",
    "\n",
    "El segundo enfoque es el más común cuando tenemos un conjunto de datos finito.\n",
    "Para crear dicho conjunto ejecutamos ya sea el script de bash en la carpeta\n",
    "actual o el de python en la carpeta local.\n",
    "\n",
    "Al separar nuestros datos debemos ser cuidadosos, ya que queremos asegurar que\n",
    "ambas partes sean representativas del conjunto de datos completo y tengan\n",
    "relaciones similares a lo que queremos predecir. Pero a la vez también queremos\n",
    "asegurarnos de que el conjunto de datos de prueba sea independiente de el de\n",
    "entrenamiento.\n",
    "\n",
    "Para entender esto separaremos el conjunto de dos diferentes maneras."
   ]
  },
  {
   "cell_type": "markdown",
   "metadata": {},
   "source": [
    "### Mezcla aleatoria."
   ]
  },
  {
   "cell_type": "markdown",
   "metadata": {},
   "source": [
    "Podríamos dividir los datos mezclando aleatoriamente todas las filas del\n",
    "conjunto de datos y eligiendo el primer 70% como conjunto de entrenamiento y el\n",
    "30% restante como conjunto de prueba. En BigQuery, puedes hacerlo utilizando la\n",
    "función RAND():"
   ]
  },
  {
   "cell_type": "code",
   "execution_count": null,
   "metadata": {},
   "outputs": [],
   "source": [
    "%%bigquery shuffle_dep_delay\n",
    "SELECT\n",
    "    ORIGIN,\n",
    "    DEST,\n",
    "    DEP_DELAY,\n",
    "    ARR_DELAY\n",
    "FROM\n",
    "    dsongcp.flights_tzcorr\n",
    "WHERE\n",
    "    RAND() < 0.7"
   ]
  },
  {
   "cell_type": "markdown",
   "metadata": {},
   "source": [
    "La función RAND devuelve un valor entre 0 y 1, entonces aproximadamente el 70%\n",
    "de los datos serán seleccionados en esta consulta. Sin embargo existen varios\n",
    "problemas al usar este método de muestreo para machine learning.\n",
    "\n",
    "- No es fácil obtener el resto de las filas que no fueron seleccionadas en el\n",
    "  conjunto de entrenamiento.\n",
    "\n",
    "- La función RAND nos devuelve diferentes valores cada vez que es ejecutada, entonces si ejecutamos la consulta nuevamente obtendremos un 70% de filas diferentes.\n",
    "\n",
    "- El orden de las filas en un resultado de BigQuery no está garantizado, esto\n",
    "  tiene que ver con el orden en que los nodos retornan sus resultados. Entonces\n",
    "  aunque pudiésemos establecer que RAND fuese replicable aun no obtendríamos\n",
    "  resultados replicables.\n",
    "\n",
    "- Tenemos que ordenar los datos antes de llamar a RAND, esto no será siempre posible."
   ]
  },
  {
   "cell_type": "markdown",
   "metadata": {},
   "source": [
    "### Separar por fecha."
   ]
  },
  {
   "cell_type": "markdown",
   "metadata": {},
   "source": [
    "En este enfoque encontraremos las fechas únicas en el conjunto de datos, las\n",
    "mezclamos y usamos el 70% de esos días como conjunto de entrenamiento y los\n",
    "restantes como evaluación."
   ]
  },
  {
   "cell_type": "code",
   "execution_count": 11,
   "metadata": {},
   "outputs": [
    {
     "data": {
      "application/vnd.jupyter.widget-view+json": {
       "model_id": "d729a9f7e861488fb7637af8f50f750a",
       "version_major": 2,
       "version_minor": 0
      },
      "text/plain": [
       "Query is running:   0%|          |"
      ]
     },
     "metadata": {},
     "output_type": "display_data"
    },
    {
     "data": {
      "application/vnd.jupyter.widget-view+json": {
       "model_id": "980a58f7d1b149dc8793574965aa9b43",
       "version_major": 2,
       "version_minor": 0
      },
      "text/plain": [
       "Downloading:   0%|          |"
      ]
     },
     "metadata": {},
     "output_type": "display_data"
    }
   ],
   "source": [
    "%%bigquery unique_days\n",
    "SELECT\n",
    "    DISTINCT(FL_DATE) AS FL_DATE\n",
    "FROM\n",
    "    dsongcp.flights_tzcorr\n",
    "ORDER BY\n",
    "    FL_DATE"
   ]
  },
  {
   "cell_type": "code",
   "execution_count": 12,
   "metadata": {},
   "outputs": [
    {
     "data": {
      "text/html": [
       "<div>\n",
       "<style scoped>\n",
       "    .dataframe tbody tr th:only-of-type {\n",
       "        vertical-align: middle;\n",
       "    }\n",
       "\n",
       "    .dataframe tbody tr th {\n",
       "        vertical-align: top;\n",
       "    }\n",
       "\n",
       "    .dataframe thead th {\n",
       "        text-align: right;\n",
       "    }\n",
       "</style>\n",
       "<table border=\"1\" class=\"dataframe\">\n",
       "  <thead>\n",
       "    <tr style=\"text-align: right;\">\n",
       "      <th></th>\n",
       "      <th>FL_DATE</th>\n",
       "    </tr>\n",
       "  </thead>\n",
       "  <tbody>\n",
       "    <tr>\n",
       "      <th>0</th>\n",
       "      <td>2022-11-01</td>\n",
       "    </tr>\n",
       "    <tr>\n",
       "      <th>1</th>\n",
       "      <td>2022-11-02</td>\n",
       "    </tr>\n",
       "    <tr>\n",
       "      <th>2</th>\n",
       "      <td>2022-11-03</td>\n",
       "    </tr>\n",
       "    <tr>\n",
       "      <th>3</th>\n",
       "      <td>2022-11-04</td>\n",
       "    </tr>\n",
       "    <tr>\n",
       "      <th>4</th>\n",
       "      <td>2022-11-05</td>\n",
       "    </tr>\n",
       "  </tbody>\n",
       "</table>\n",
       "</div>"
      ],
      "text/plain": [
       "      FL_DATE\n",
       "0  2022-11-01\n",
       "1  2022-11-02\n",
       "2  2022-11-03\n",
       "3  2022-11-04\n",
       "4  2022-11-05"
      ]
     },
     "execution_count": 12,
     "metadata": {},
     "output_type": "execute_result"
    }
   ],
   "source": [
    "unique_days[:5]"
   ]
  },
  {
   "cell_type": "code",
   "execution_count": 17,
   "metadata": {
    "tags": []
   },
   "outputs": [
    {
     "data": {
      "application/vnd.jupyter.widget-view+json": {
       "model_id": "e12371c08ff5481381eb3d63d5085338",
       "version_major": 2,
       "version_minor": 0
      },
      "text/plain": [
       "Query is running:   0%|          |"
      ]
     },
     "metadata": {},
     "output_type": "display_data"
    },
    {
     "data": {
      "application/vnd.jupyter.widget-view+json": {
       "model_id": "9a93f15138e54687b84a5715bac7ef79",
       "version_major": 2,
       "version_minor": 0
      },
      "text/plain": [
       "Downloading:   0%|          |"
      ]
     },
     "metadata": {},
     "output_type": "display_data"
    }
   ],
   "source": [
    "%%bigquery train\n",
    "SELECT\n",
    "    FL_DATE,\n",
    "    FARM_FINGERPRINT(CAST(FL_DATE AS STRING)) date_hash,\n",
    "    MOD(FARM_FINGERPRINT(CAST(FL_DATE AS STRING)), 100) as mod_date_hash,\n",
    "    ABS(MOD(FARM_FINGERPRINT(CAST(FL_DATE AS STRING)), 100)) as abs_mod_date_hash,\n",
    "    IF(\n",
    "        ABS(MOD(FARM_FINGERPRINT(CAST(FL_DATE AS STRING)), 100)) < 70,\n",
    "        'True',\n",
    "        'False'\n",
    "    ) AS is_train_day\n",
    "FROM\n",
    "    (\n",
    "        SELECT\n",
    "            DISTINCT(FL_DATE) AS FL_DATE\n",
    "        FROM\n",
    "            dsongcp.flights_tzcorr\n",
    "    )\n",
    "ORDER BY\n",
    "    FL_DATE"
   ]
  },
  {
   "cell_type": "code",
   "execution_count": 18,
   "metadata": {},
   "outputs": [
    {
     "data": {
      "text/html": [
       "<div>\n",
       "<style scoped>\n",
       "    .dataframe tbody tr th:only-of-type {\n",
       "        vertical-align: middle;\n",
       "    }\n",
       "\n",
       "    .dataframe tbody tr th {\n",
       "        vertical-align: top;\n",
       "    }\n",
       "\n",
       "    .dataframe thead th {\n",
       "        text-align: right;\n",
       "    }\n",
       "</style>\n",
       "<table border=\"1\" class=\"dataframe\">\n",
       "  <thead>\n",
       "    <tr style=\"text-align: right;\">\n",
       "      <th></th>\n",
       "      <th>FL_DATE</th>\n",
       "      <th>date_hash</th>\n",
       "      <th>mod_date_hash</th>\n",
       "      <th>abs_mod_date_hash</th>\n",
       "      <th>is_train_day</th>\n",
       "    </tr>\n",
       "  </thead>\n",
       "  <tbody>\n",
       "    <tr>\n",
       "      <th>0</th>\n",
       "      <td>2022-11-01</td>\n",
       "      <td>-7701120425202279183</td>\n",
       "      <td>-83</td>\n",
       "      <td>83</td>\n",
       "      <td>False</td>\n",
       "    </tr>\n",
       "    <tr>\n",
       "      <th>1</th>\n",
       "      <td>2022-11-02</td>\n",
       "      <td>-4951538389414126586</td>\n",
       "      <td>-86</td>\n",
       "      <td>86</td>\n",
       "      <td>False</td>\n",
       "    </tr>\n",
       "    <tr>\n",
       "      <th>2</th>\n",
       "      <td>2022-11-03</td>\n",
       "      <td>-8383072635110010971</td>\n",
       "      <td>-71</td>\n",
       "      <td>71</td>\n",
       "      <td>False</td>\n",
       "    </tr>\n",
       "    <tr>\n",
       "      <th>3</th>\n",
       "      <td>2022-11-04</td>\n",
       "      <td>-2554333180643815737</td>\n",
       "      <td>-37</td>\n",
       "      <td>37</td>\n",
       "      <td>True</td>\n",
       "    </tr>\n",
       "    <tr>\n",
       "      <th>4</th>\n",
       "      <td>2022-11-05</td>\n",
       "      <td>4675668428541175032</td>\n",
       "      <td>32</td>\n",
       "      <td>32</td>\n",
       "      <td>True</td>\n",
       "    </tr>\n",
       "  </tbody>\n",
       "</table>\n",
       "</div>"
      ],
      "text/plain": [
       "      FL_DATE             date_hash  mod_date_hash  abs_mod_date_hash  \\\n",
       "0  2022-11-01  -7701120425202279183            -83                 83   \n",
       "1  2022-11-02  -4951538389414126586            -86                 86   \n",
       "2  2022-11-03  -8383072635110010971            -71                 71   \n",
       "3  2022-11-04  -2554333180643815737            -37                 37   \n",
       "4  2022-11-05   4675668428541175032             32                 32   \n",
       "\n",
       "  is_train_day  \n",
       "0        False  \n",
       "1        False  \n",
       "2        False  \n",
       "3         True  \n",
       "4         True  "
      ]
     },
     "execution_count": 18,
     "metadata": {},
     "output_type": "execute_result"
    }
   ],
   "source": [
    "train[:5]"
   ]
  },
  {
   "cell_type": "markdown",
   "metadata": {},
   "source": [
    "En la consulta anterior utilizamos FARM_FINGERPRINT para calcular el valor de\n",
    "hash (para identificar los días de manera única) y utilizando la función MOD\n",
    "obtenemos los 2 últimos dígitos, como el hash puede ser negativo utilizamos la función ABS, para finalmente comparar todos los resultados (desde 0 a 99)\n",
    "con el porcentaje de entrenamiento (en este caso 70)."
   ]
  },
  {
   "cell_type": "markdown",
   "metadata": {},
   "source": [
    "### Entrenando y evaluando."
   ]
  },
  {
   "cell_type": "code",
   "execution_count": 19,
   "metadata": {},
   "outputs": [
    {
     "data": {
      "application/vnd.jupyter.widget-view+json": {
       "model_id": "055a29c2cfc64f9a9c5c933dcb509fdf",
       "version_major": 2,
       "version_minor": 0
      },
      "text/plain": [
       "Query is running:   0%|          |"
      ]
     },
     "metadata": {},
     "output_type": "display_data"
    },
    {
     "data": {
      "application/vnd.jupyter.widget-view+json": {
       "model_id": "b75d4236f2d34861a79ad3ca26070826",
       "version_major": 2,
       "version_minor": 0
      },
      "text/plain": [
       "Downloading:   0%|          |"
      ]
     },
     "metadata": {},
     "output_type": "display_data"
    }
   ],
   "source": [
    "%%bigquery train_dep_delay\n",
    "SELECT\n",
    "    DEP_DELAY,\n",
    "    APPROX_QUANTILES(ARR_DELAY, 100)[OFFSET(70)] AS arrival_delay,\n",
    "    COUNT(ARR_DELAY) AS numflights\n",
    "FROM\n",
    "    dsongcp.flights_tzcorr\n",
    "JOIN\n",
    "    dsongcp.trainday USING(FL_DATE)\n",
    "WHERE\n",
    "    is_train_day = 'True'\n",
    "GROUP BY\n",
    "    DEP_DELAY\n",
    "HAVING\n",
    "    numflights > 370\n",
    "ORDER BY\n",
    "    DEP_DELAY"
   ]
  },
  {
   "cell_type": "code",
   "execution_count": 21,
   "metadata": {
    "collapsed": false,
    "jupyter": {
     "outputs_hidden": false
    }
   },
   "outputs": [
    {
     "data": {
      "image/png": "[encoded data removed]",
      "text/plain": [
       "<Figure size 640x480 with 1 Axes>"
      ]
     },
     "metadata": {},
     "output_type": "display_data"
    }
   ],
   "source": [
    "ax = plt.axes()\n",
    "train_dep_delay.plot(\n",
    "    kind=\"line\",\n",
    "    x=\"DEP_DELAY\",\n",
    "    y=\"arrival_delay\",\n",
    "    ax=ax,\n",
    "    ylim=(0, 30),\n",
    "    xlim=(0, 30),\n",
    "    legend=False,\n",
    ")\n",
    "ax.set_xlabel('Retraso de Salida (minutos)')\n",
    "ax.set_ylabel('> 30% prob de este\\n Retraso de Llegada (minutos)');\n",
    "\n",
    "ax.axhline(y=15, color=\"r\", linestyle=\"dotted\")\n",
    "ax.axvline(x=16, color=\"g\", linestyle=\"dotted\");"
   ]
  },
  {
   "cell_type": "markdown",
   "metadata": {},
   "source": [
    "Evaluando la recomendación."
   ]
  },
  {
   "cell_type": "code",
   "execution_count": 22,
   "metadata": {
    "tags": []
   },
   "outputs": [
    {
     "data": {
      "application/vnd.jupyter.widget-view+json": {
       "model_id": "3075ae8891184b2a92f9d885fee11c70",
       "version_major": 2,
       "version_minor": 0
      },
      "text/plain": [
       "Query is running:   0%|          |"
      ]
     },
     "metadata": {},
     "output_type": "display_data"
    },
    {
     "data": {
      "application/vnd.jupyter.widget-view+json": {
       "model_id": "5dd6cb5c0bee4e89b0ee32423645b593",
       "version_major": 2,
       "version_minor": 0
      },
      "text/plain": [
       "Downloading:   0%|          |"
      ]
     },
     "metadata": {},
     "output_type": "display_data"
    }
   ],
   "source": [
    "%%bigquery df_eval\n",
    "SELECT\n",
    "    SUM(IF(DEP_DELAY < 16\n",
    "        AND arr_delay < 15, 1, 0)) AS correct_nocancel,\n",
    "    SUM(IF(DEP_DELAY < 16\n",
    "        AND arr_delay >= 15, 1, 0)) AS wrong_nocancel,\n",
    "    SUM(IF(DEP_DELAY >= 16\n",
    "        AND arr_delay < 15, 1, 0)) AS wrong_cancel,\n",
    "    SUM(IF(DEP_DELAY >= 16\n",
    "        AND arr_delay >= 15, 1, 0)) AS correct_cancel\n",
    "FROM\n",
    "    (\n",
    "        SELECT\n",
    "            DEP_DELAY,\n",
    "            ARR_DELAY\n",
    "        FROM\n",
    "            dsongcp.flights_tzcorr\n",
    "        JOIN dsongcp.trainday USING(FL_DATE)\n",
    "        WHERE\n",
    "            is_train_day = 'False'\n",
    "    )"
   ]
  },
  {
   "cell_type": "code",
   "execution_count": 25,
   "metadata": {
    "collapsed": false,
    "jupyter": {
     "outputs_hidden": false
    }
   },
   "outputs": [
    {
     "data": {
      "text/html": [
       "<div>\n",
       "<style scoped>\n",
       "    .dataframe tbody tr th:only-of-type {\n",
       "        vertical-align: middle;\n",
       "    }\n",
       "\n",
       "    .dataframe tbody tr th {\n",
       "        vertical-align: top;\n",
       "    }\n",
       "\n",
       "    .dataframe thead th {\n",
       "        text-align: right;\n",
       "    }\n",
       "</style>\n",
       "<table border=\"1\" class=\"dataframe\">\n",
       "  <thead>\n",
       "    <tr style=\"text-align: right;\">\n",
       "      <th></th>\n",
       "      <th>correct_nocancel</th>\n",
       "      <th>wrong_nocancel</th>\n",
       "      <th>wrong_cancel</th>\n",
       "      <th>correct_cancel</th>\n",
       "    </tr>\n",
       "  </thead>\n",
       "  <tbody>\n",
       "    <tr>\n",
       "      <th>0</th>\n",
       "      <td>1548016</td>\n",
       "      <td>100038</td>\n",
       "      <td>78671</td>\n",
       "      <td>353509</td>\n",
       "    </tr>\n",
       "  </tbody>\n",
       "</table>\n",
       "</div>"
      ],
      "text/plain": [
       "   correct_nocancel  wrong_nocancel  wrong_cancel  correct_cancel\n",
       "0           1548016          100038         78671          353509"
      ]
     },
     "execution_count": 25,
     "metadata": {},
     "output_type": "execute_result"
    }
   ],
   "source": [
    "df_eval"
   ]
  },
  {
   "cell_type": "code",
   "execution_count": 30,
   "metadata": {
    "collapsed": false,
    "jupyter": {
     "outputs_hidden": false
    }
   },
   "outputs": [
    {
     "name": "stdout",
     "output_type": "stream",
     "text": [
      "precision = 0.9392993190757098\n",
      "specificity = 0.8179670507658846\n"
     ]
    }
   ],
   "source": [
    "precision = df_eval[\"correct_nocancel\"] / (\n",
    "    df_eval[\"correct_nocancel\"] + df_eval[\"wrong_nocancel\"]\n",
    ");\n",
    "\n",
    "specificity = df_eval[\"correct_cancel\"] / (\n",
    "    df_eval[\"correct_cancel\"] + df_eval[\"wrong_cancel\"]\n",
    ");\n",
    "\n",
    "print(f\"precision = {precision[0]}\")\n",
    "print(f\"specificity = {specificity[0]}\")"
   ]
  },
  {
   "cell_type": "code",
   "execution_count": 31,
   "metadata": {
    "tags": []
   },
   "outputs": [
    {
     "data": {
      "application/vnd.jupyter.widget-view+json": {
       "model_id": "9752ed8b299340a0aaad10a51706ee11",
       "version_major": 2,
       "version_minor": 0
      },
      "text/plain": [
       "Query is running:   0%|          |"
      ]
     },
     "metadata": {},
     "output_type": "display_data"
    },
    {
     "data": {
      "application/vnd.jupyter.widget-view+json": {
       "model_id": "34792e333ad04454bf8502beecb2d2cc",
       "version_major": 2,
       "version_minor": 0
      },
      "text/plain": [
       "Downloading:   0%|          |"
      ]
     },
     "metadata": {},
     "output_type": "display_data"
    }
   ],
   "source": [
    "%%bigquery eval\n",
    "SELECT\n",
    "    SUM(IF(DEP_DELAY = 15\n",
    "        AND arr_delay < 15, 1, 0)) AS correct_nocancel,\n",
    "    SUM(IF(DEP_DELAY = 15\n",
    "        AND arr_delay >= 15, 1, 0)) AS wrong_nocancel,\n",
    "    SUM(IF(DEP_DELAY = 16\n",
    "        AND arr_delay < 15, 1, 0)) AS wrong_cancel,\n",
    "    SUM(IF(DEP_DELAY = 16\n",
    "        AND arr_delay >= 15, 1, 0)) AS correct_cancel\n",
    "FROM\n",
    "    (\n",
    "        SELECT\n",
    "            DEP_DELAY,\n",
    "            ARR_DELAY\n",
    "        FROM\n",
    "            dsongcp.flights_tzcorr\n",
    "        JOIN dsongcp.trainday USING(FL_DATE)\n",
    "        WHERE is_train_day = 'False' \n",
    "    )"
   ]
  },
  {
   "cell_type": "code",
   "execution_count": 32,
   "metadata": {
    "collapsed": false,
    "jupyter": {
     "outputs_hidden": false
    }
   },
   "outputs": [
    {
     "data": {
      "text/html": [
       "<div>\n",
       "<style scoped>\n",
       "    .dataframe tbody tr th:only-of-type {\n",
       "        vertical-align: middle;\n",
       "    }\n",
       "\n",
       "    .dataframe tbody tr th {\n",
       "        vertical-align: top;\n",
       "    }\n",
       "\n",
       "    .dataframe thead th {\n",
       "        text-align: right;\n",
       "    }\n",
       "</style>\n",
       "<table border=\"1\" class=\"dataframe\">\n",
       "  <thead>\n",
       "    <tr style=\"text-align: right;\">\n",
       "      <th></th>\n",
       "      <th>correct_nocancel</th>\n",
       "      <th>wrong_nocancel</th>\n",
       "      <th>wrong_cancel</th>\n",
       "      <th>correct_cancel</th>\n",
       "    </tr>\n",
       "  </thead>\n",
       "  <tbody>\n",
       "    <tr>\n",
       "      <th>0</th>\n",
       "      <td>10857</td>\n",
       "      <td>4369</td>\n",
       "      <td>9578</td>\n",
       "      <td>4328</td>\n",
       "    </tr>\n",
       "  </tbody>\n",
       "</table>\n",
       "</div>"
      ],
      "text/plain": [
       "   correct_nocancel  wrong_nocancel  wrong_cancel  correct_cancel\n",
       "0             10857            4369          9578            4328"
      ]
     },
     "execution_count": 32,
     "metadata": {},
     "output_type": "execute_result"
    }
   ],
   "source": [
    "eval"
   ]
  },
  {
   "cell_type": "code",
   "execution_count": 33,
   "metadata": {
    "collapsed": false,
    "jupyter": {
     "outputs_hidden": false
    }
   },
   "outputs": [
    {
     "name": "stdout",
     "output_type": "stream",
     "text": [
      "0    0.713057\n",
      "dtype: Float64\n",
      "0    0.311233\n",
      "dtype: Float64\n"
     ]
    }
   ],
   "source": [
    "print(\n",
    "    eval[\"correct_nocancel\"]\n",
    "    / (eval[\"correct_nocancel\"] + eval[\"wrong_nocancel\"])\n",
    ")\n",
    "print(eval[\"correct_cancel\"] / (eval[\"correct_cancel\"] + eval[\"wrong_cancel\"]))"
   ]
  }
 ],
 "metadata": {
  "environment": {
   "kernel": "python3",
   "name": "tf2-gpu.2-8.m90",
   "type": "gcloud",
   "uri": "gcr.io/deeplearning-platform-release/tf2-gpu.2-8:m90"
  },
  "kernelspec": {
   "display_name": "Python 3",
   "language": "python",
   "name": "python3"
  },
  "language_info": {
   "codemirror_mode": {
    "name": "ipython",
    "version": 3
   },
   "file_extension": ".py",
   "mimetype": "text/x-python",
   "name": "python",
   "nbconvert_exporter": "python",
   "pygments_lexer": "ipython3",
   "version": "3.10.12"
  }
 },
 "nbformat": 4,
 "nbformat_minor": 4
}
